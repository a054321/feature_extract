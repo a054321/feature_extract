{
 "cells": [
  {
   "cell_type": "code",
   "execution_count": 106,
   "metadata": {
    "colab": {},
    "colab_type": "code",
    "id": "YeaZ1Q1gvvPQ"
   },
   "outputs": [],
   "source": [
    "import numpy as np\n",
    "import matplotlib\n",
    "import matplotlib.pyplot as plt\n",
    "import tensorflow as tf\n",
    "import pandas as pd\n",
    "from sklearn import metrics\n",
    "import os\n",
    "import seaborn as sns\n",
    "import math\n",
    "from keras.models import Sequential\n",
    "from keras.layers import LSTM\n",
    "from sklearn.preprocessing import MinMaxScaler\n",
    "from sklearn.metrics import mean_squared_error"
   ]
  },
  {
   "cell_type": "code",
   "execution_count": 27,
   "metadata": {
    "colab": {
     "base_uri": "https://localhost:8080/",
     "height": 79,
     "resources": {
      "http://localhost:8080/nbextensions/google.colab/files.js": {
       "data": "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",
       "headers": [
        [
         "content-type",
         "application/javascript"
        ]
       ],
       "ok": true,
       "status": 200,
       "status_text": ""
      }
     }
    },
    "colab_type": "code",
    "executionInfo": {
     "elapsed": 16000,
     "status": "ok",
     "timestamp": 1580287637615,
     "user": {
      "displayName": "omez ario",
      "photoUrl": "https://lh3.googleusercontent.com/a-/AAuE7mC9BxaBrxzccVNpko1HTvBIbiJ2t0fxuBU_L3Bb=s64",
      "userId": "14694671835625384382"
     },
     "user_tz": -540
    },
    "id": "JcLce5AWvzBA",
    "outputId": "de8fe7e5-34ed-4882-c285-03473dab21ea"
   },
   "outputs": [
    {
     "data": {
      "text/html": [
       "\n",
       "     <input type=\"file\" id=\"files-43c674a1-1bf0-4f85-9c52-1904f644963d\" name=\"files[]\" multiple disabled />\n",
       "     <output id=\"result-43c674a1-1bf0-4f85-9c52-1904f644963d\">\n",
       "      Upload widget is only available when the cell has been executed in the\n",
       "      current browser session. Please rerun this cell to enable.\n",
       "      </output>\n",
       "      <script src=\"/nbextensions/google.colab/files.js\"></script> "
      ],
      "text/plain": [
       "<IPython.core.display.HTML object>"
      ]
     },
     "metadata": {
      "tags": []
     },
     "output_type": "display_data"
    },
    {
     "name": "stdout",
     "output_type": "stream",
     "text": [
      "Saving temperature_data.csv to temperature_data (1).csv\n"
     ]
    }
   ],
   "source": [
    "# show upload dialog\n",
    "from google.colab import files\n",
    "uploaded = files.upload()"
   ]
  },
  {
   "cell_type": "code",
   "execution_count": 107,
   "metadata": {
    "colab": {
     "base_uri": "https://localhost:8080/",
     "height": 235
    },
    "colab_type": "code",
    "executionInfo": {
     "elapsed": 2262,
     "status": "ok",
     "timestamp": 1580287637620,
     "user": {
      "displayName": "omez ario",
      "photoUrl": "https://lh3.googleusercontent.com/a-/AAuE7mC9BxaBrxzccVNpko1HTvBIbiJ2t0fxuBU_L3Bb=s64",
      "userId": "14694671835625384382"
     },
     "user_tz": -540
    },
    "id": "0xhKjFp73wiK",
    "outputId": "470c6720-271e-41be-aaf1-5b39042de1d6"
   },
   "outputs": [
    {
     "data": {
      "text/html": [
       "<div>\n",
       "<style scoped>\n",
       "    .dataframe tbody tr th:only-of-type {\n",
       "        vertical-align: middle;\n",
       "    }\n",
       "\n",
       "    .dataframe tbody tr th {\n",
       "        vertical-align: top;\n",
       "    }\n",
       "\n",
       "    .dataframe thead th {\n",
       "        text-align: right;\n",
       "    }\n",
       "</style>\n",
       "<table border=\"1\" class=\"dataframe\">\n",
       "  <thead>\n",
       "    <tr style=\"text-align: right;\">\n",
       "      <th></th>\n",
       "      <th>Tokyo(Kanto)</th>\n",
       "      <th>Neriima(Kanto)</th>\n",
       "      <th>fuchu(Kanto)</th>\n",
       "      <th>Naha(kyushu)</th>\n",
       "      <th>fukuoka(kyushu)</th>\n",
       "      <th>Dazaihu(kyushu)</th>\n",
       "    </tr>\n",
       "    <tr>\n",
       "      <th>timestep</th>\n",
       "      <th></th>\n",
       "      <th></th>\n",
       "      <th></th>\n",
       "      <th></th>\n",
       "      <th></th>\n",
       "      <th></th>\n",
       "    </tr>\n",
       "  </thead>\n",
       "  <tbody>\n",
       "    <tr>\n",
       "      <th>1</th>\n",
       "      <td>5.3</td>\n",
       "      <td>4.5</td>\n",
       "      <td>4.2</td>\n",
       "      <td>18.3</td>\n",
       "      <td>6.8</td>\n",
       "      <td>5.2</td>\n",
       "    </tr>\n",
       "    <tr>\n",
       "      <th>2</th>\n",
       "      <td>6.2</td>\n",
       "      <td>5.6</td>\n",
       "      <td>4.3</td>\n",
       "      <td>17.8</td>\n",
       "      <td>6.0</td>\n",
       "      <td>4.8</td>\n",
       "    </tr>\n",
       "    <tr>\n",
       "      <th>3</th>\n",
       "      <td>4.9</td>\n",
       "      <td>4.1</td>\n",
       "      <td>3.7</td>\n",
       "      <td>17.4</td>\n",
       "      <td>5.4</td>\n",
       "      <td>3.3</td>\n",
       "    </tr>\n",
       "    <tr>\n",
       "      <th>4</th>\n",
       "      <td>5.1</td>\n",
       "      <td>3.8</td>\n",
       "      <td>4.0</td>\n",
       "      <td>19.9</td>\n",
       "      <td>6.9</td>\n",
       "      <td>4.8</td>\n",
       "    </tr>\n",
       "    <tr>\n",
       "      <th>5</th>\n",
       "      <td>7.4</td>\n",
       "      <td>6.5</td>\n",
       "      <td>6.0</td>\n",
       "      <td>22.1</td>\n",
       "      <td>8.2</td>\n",
       "      <td>7.0</td>\n",
       "    </tr>\n",
       "  </tbody>\n",
       "</table>\n",
       "</div>"
      ],
      "text/plain": [
       "          Tokyo(Kanto)  Neriima(Kanto)  fuchu(Kanto)  Naha(kyushu)  \\\n",
       "timestep                                                             \n",
       "1                  5.3             4.5           4.2          18.3   \n",
       "2                  6.2             5.6           4.3          17.8   \n",
       "3                  4.9             4.1           3.7          17.4   \n",
       "4                  5.1             3.8           4.0          19.9   \n",
       "5                  7.4             6.5           6.0          22.1   \n",
       "\n",
       "          fukuoka(kyushu)  Dazaihu(kyushu)  \n",
       "timestep                                    \n",
       "1                     6.8              5.2  \n",
       "2                     6.0              4.8  \n",
       "3                     5.4              3.3  \n",
       "4                     6.9              4.8  \n",
       "5                     8.2              7.0  "
      ]
     },
     "execution_count": 107,
     "metadata": {},
     "output_type": "execute_result"
    }
   ],
   "source": [
    "import pandas as pd\n",
    "df = pd.read_csv('temperature_data.csv',index_col=0)\n",
    "df.head()"
   ]
  },
  {
   "cell_type": "code",
   "execution_count": 108,
   "metadata": {
    "colab": {},
    "colab_type": "code",
    "id": "806FHxi630mJ"
   },
   "outputs": [],
   "source": [
    "INPUT_feature_col = [\n",
    "    \"Tokyo(Kanto)\",\"Neriima(Kanto)\",\"fuchu(Kanto)\",\"Naha(kyushu)\",\"fukuoka(kyushu)\",\"Dazaihu(kyushu)\"\n",
    "    ]"
   ]
  },
  {
   "cell_type": "code",
   "execution_count": 109,
   "metadata": {
    "colab": {},
    "colab_type": "code",
    "id": "uXCH9qEEvzI_"
   },
   "outputs": [],
   "source": [
    "#加えない\n",
    "dataset = df[INPUT_feature_col].values\n",
    "dataset = dataset.astype('float32')\n",
    "scaler = MinMaxScaler(feature_range=(0, 1))\n",
    "dataset = scaler.fit_transform(dataset)\n",
    "df_ax = pd.DataFrame(dataset)\n",
    "#answer = df_ax[OUTPUT_label_de].values\n",
    "#answer = answer.astype('float32')"
   ]
  },
  {
   "cell_type": "code",
   "execution_count": 110,
   "metadata": {
    "colab": {
     "base_uri": "https://localhost:8080/",
     "height": 54
    },
    "colab_type": "code",
    "executionInfo": {
     "elapsed": 1632,
     "status": "ok",
     "timestamp": 1580283120166,
     "user": {
      "displayName": "omez ario",
      "photoUrl": "https://lh3.googleusercontent.com/a-/AAuE7mC9BxaBrxzccVNpko1HTvBIbiJ2t0fxuBU_L3Bb=s64",
      "userId": "14694671835625384382"
     },
     "user_tz": -540
    },
    "id": "hJJ9LkuuvzL1",
    "outputId": "7a2c8d5b-2dd2-4034-90fb-f2a60818517b"
   },
   "outputs": [
    {
     "data": {
      "text/plain": [
       "'\\n\\n#noiseを加える \\narray_a =  df_ax.loc[:,[0]]\\narray_0 = array_a.values\\nnum = len(array_0)\\narray_noise=[]\\nnum=float(num)\\na = num*0.1\\na = int(a)\\na_1 = array_0[0] + (np.random.rand(a))\\n\\n#plus_noise = array_a[0] + np.random.rand()\\n#print(plus_noise)\\nfor i in range(2296):\\n    plus_noise = array_0[i] + np.random.rand()\\n    array_noise.append(plus_noise)\\n\\nprint(len(array_noise))\\nnoise_ax = np.array(array_noise)\\nnoise_ax.shape\\n\\ndataset = noise_ax\\nscaler = MinMaxScaler()\\ndataset = scaler.fit_transform(dataset)\\ndf_ax = pd.DataFrame(dataset)\\n'"
      ]
     },
     "execution_count": 110,
     "metadata": {},
     "output_type": "execute_result"
    }
   ],
   "source": [
    "#標準化\n",
    "\"\"\"\n",
    "\n",
    "#noiseを加える \n",
    "array_a =  df_ax.loc[:,[0]]\n",
    "array_0 = array_a.values\n",
    "num = len(array_0)\n",
    "array_noise=[]\n",
    "num=float(num)\n",
    "a = num*0.1\n",
    "a = int(a)\n",
    "a_1 = array_0[0] + (np.random.rand(a))\n",
    "\n",
    "#plus_noise = array_a[0] + np.random.rand()\n",
    "#print(plus_noise)\n",
    "for i in range(2296):\n",
    "    plus_noise = array_0[i] + np.random.rand()\n",
    "    array_noise.append(plus_noise)\n",
    "\n",
    "print(len(array_noise))\n",
    "noise_ax = np.array(array_noise)\n",
    "noise_ax.shape\n",
    "\n",
    "dataset = noise_ax\n",
    "scaler = MinMaxScaler()\n",
    "dataset = scaler.fit_transform(dataset)\n",
    "df_ax = pd.DataFrame(dataset)\n",
    "\"\"\""
   ]
  },
  {
   "cell_type": "code",
   "execution_count": 111,
   "metadata": {
    "colab": {
     "base_uri": "https://localhost:8080/",
     "height": 419
    },
    "colab_type": "code",
    "executionInfo": {
     "elapsed": 1064,
     "status": "ok",
     "timestamp": 1580283120168,
     "user": {
      "displayName": "omez ario",
      "photoUrl": "https://lh3.googleusercontent.com/a-/AAuE7mC9BxaBrxzccVNpko1HTvBIbiJ2t0fxuBU_L3Bb=s64",
      "userId": "14694671835625384382"
     },
     "user_tz": -540
    },
    "id": "RTqldv4wvzOV",
    "outputId": "7691f349-77fc-4406-cf1d-5cbbf5a398e1"
   },
   "outputs": [
    {
     "data": {
      "text/html": [
       "<div>\n",
       "<style scoped>\n",
       "    .dataframe tbody tr th:only-of-type {\n",
       "        vertical-align: middle;\n",
       "    }\n",
       "\n",
       "    .dataframe tbody tr th {\n",
       "        vertical-align: top;\n",
       "    }\n",
       "\n",
       "    .dataframe thead th {\n",
       "        text-align: right;\n",
       "    }\n",
       "</style>\n",
       "<table border=\"1\" class=\"dataframe\">\n",
       "  <thead>\n",
       "    <tr style=\"text-align: right;\">\n",
       "      <th></th>\n",
       "      <th>0</th>\n",
       "      <th>1</th>\n",
       "      <th>2</th>\n",
       "      <th>3</th>\n",
       "      <th>4</th>\n",
       "      <th>5</th>\n",
       "    </tr>\n",
       "  </thead>\n",
       "  <tbody>\n",
       "    <tr>\n",
       "      <th>0</th>\n",
       "      <td>0.151515</td>\n",
       "      <td>0.127036</td>\n",
       "      <td>0.129139</td>\n",
       "      <td>0.215686</td>\n",
       "      <td>0.056818</td>\n",
       "      <td>0.080139</td>\n",
       "    </tr>\n",
       "    <tr>\n",
       "      <th>1</th>\n",
       "      <td>0.181818</td>\n",
       "      <td>0.162866</td>\n",
       "      <td>0.132450</td>\n",
       "      <td>0.183007</td>\n",
       "      <td>0.026515</td>\n",
       "      <td>0.066202</td>\n",
       "    </tr>\n",
       "    <tr>\n",
       "      <th>2</th>\n",
       "      <td>0.138047</td>\n",
       "      <td>0.114007</td>\n",
       "      <td>0.112583</td>\n",
       "      <td>0.156863</td>\n",
       "      <td>0.003788</td>\n",
       "      <td>0.013937</td>\n",
       "    </tr>\n",
       "    <tr>\n",
       "      <th>3</th>\n",
       "      <td>0.144781</td>\n",
       "      <td>0.104235</td>\n",
       "      <td>0.122517</td>\n",
       "      <td>0.320261</td>\n",
       "      <td>0.060606</td>\n",
       "      <td>0.066202</td>\n",
       "    </tr>\n",
       "    <tr>\n",
       "      <th>4</th>\n",
       "      <td>0.222222</td>\n",
       "      <td>0.192182</td>\n",
       "      <td>0.188742</td>\n",
       "      <td>0.464052</td>\n",
       "      <td>0.109848</td>\n",
       "      <td>0.142857</td>\n",
       "    </tr>\n",
       "    <tr>\n",
       "      <th>5</th>\n",
       "      <td>0.151515</td>\n",
       "      <td>0.136808</td>\n",
       "      <td>0.125828</td>\n",
       "      <td>0.261438</td>\n",
       "      <td>0.125000</td>\n",
       "      <td>0.125436</td>\n",
       "    </tr>\n",
       "    <tr>\n",
       "      <th>6</th>\n",
       "      <td>0.154882</td>\n",
       "      <td>0.123779</td>\n",
       "      <td>0.119205</td>\n",
       "      <td>0.261438</td>\n",
       "      <td>0.098485</td>\n",
       "      <td>0.094077</td>\n",
       "    </tr>\n",
       "    <tr>\n",
       "      <th>7</th>\n",
       "      <td>0.127946</td>\n",
       "      <td>0.104235</td>\n",
       "      <td>0.102649</td>\n",
       "      <td>0.254902</td>\n",
       "      <td>0.117424</td>\n",
       "      <td>0.132404</td>\n",
       "    </tr>\n",
       "    <tr>\n",
       "      <th>8</th>\n",
       "      <td>0.124579</td>\n",
       "      <td>0.114007</td>\n",
       "      <td>0.122517</td>\n",
       "      <td>0.189542</td>\n",
       "      <td>0.064394</td>\n",
       "      <td>0.108014</td>\n",
       "    </tr>\n",
       "    <tr>\n",
       "      <th>9</th>\n",
       "      <td>0.040404</td>\n",
       "      <td>0.016287</td>\n",
       "      <td>0.000000</td>\n",
       "      <td>0.320261</td>\n",
       "      <td>0.060606</td>\n",
       "      <td>0.083624</td>\n",
       "    </tr>\n",
       "    <tr>\n",
       "      <th>10</th>\n",
       "      <td>0.188552</td>\n",
       "      <td>0.166124</td>\n",
       "      <td>0.182119</td>\n",
       "      <td>0.352941</td>\n",
       "      <td>0.117424</td>\n",
       "      <td>0.156794</td>\n",
       "    </tr>\n",
       "    <tr>\n",
       "      <th>11</th>\n",
       "      <td>0.127946</td>\n",
       "      <td>0.110749</td>\n",
       "      <td>0.119205</td>\n",
       "      <td>0.464052</td>\n",
       "      <td>0.170455</td>\n",
       "      <td>0.212544</td>\n",
       "    </tr>\n",
       "    <tr>\n",
       "      <th>12</th>\n",
       "      <td>0.181818</td>\n",
       "      <td>0.169381</td>\n",
       "      <td>0.172185</td>\n",
       "      <td>0.294118</td>\n",
       "      <td>0.200758</td>\n",
       "      <td>0.202091</td>\n",
       "    </tr>\n",
       "    <tr>\n",
       "      <th>13</th>\n",
       "      <td>0.161616</td>\n",
       "      <td>0.117264</td>\n",
       "      <td>0.122517</td>\n",
       "      <td>0.235294</td>\n",
       "      <td>0.143939</td>\n",
       "      <td>0.153310</td>\n",
       "    </tr>\n",
       "    <tr>\n",
       "      <th>14</th>\n",
       "      <td>0.161616</td>\n",
       "      <td>0.078176</td>\n",
       "      <td>0.089404</td>\n",
       "      <td>0.267974</td>\n",
       "      <td>0.143939</td>\n",
       "      <td>0.146341</td>\n",
       "    </tr>\n",
       "    <tr>\n",
       "      <th>15</th>\n",
       "      <td>0.195286</td>\n",
       "      <td>0.162866</td>\n",
       "      <td>0.165563</td>\n",
       "      <td>0.137255</td>\n",
       "      <td>0.034091</td>\n",
       "      <td>0.083624</td>\n",
       "    </tr>\n",
       "    <tr>\n",
       "      <th>16</th>\n",
       "      <td>0.195286</td>\n",
       "      <td>0.182410</td>\n",
       "      <td>0.168874</td>\n",
       "      <td>0.026144</td>\n",
       "      <td>0.030303</td>\n",
       "      <td>0.066202</td>\n",
       "    </tr>\n",
       "    <tr>\n",
       "      <th>17</th>\n",
       "      <td>0.171717</td>\n",
       "      <td>0.162866</td>\n",
       "      <td>0.152318</td>\n",
       "      <td>0.104575</td>\n",
       "      <td>0.094697</td>\n",
       "      <td>0.087108</td>\n",
       "    </tr>\n",
       "    <tr>\n",
       "      <th>18</th>\n",
       "      <td>0.195286</td>\n",
       "      <td>0.192182</td>\n",
       "      <td>0.155629</td>\n",
       "      <td>0.222222</td>\n",
       "      <td>0.143939</td>\n",
       "      <td>0.146341</td>\n",
       "    </tr>\n",
       "    <tr>\n",
       "      <th>19</th>\n",
       "      <td>0.212121</td>\n",
       "      <td>0.188925</td>\n",
       "      <td>0.182119</td>\n",
       "      <td>0.287582</td>\n",
       "      <td>0.234848</td>\n",
       "      <td>0.250871</td>\n",
       "    </tr>\n",
       "    <tr>\n",
       "      <th>20</th>\n",
       "      <td>0.168350</td>\n",
       "      <td>0.153094</td>\n",
       "      <td>0.152318</td>\n",
       "      <td>0.130719</td>\n",
       "      <td>0.090909</td>\n",
       "      <td>0.111498</td>\n",
       "    </tr>\n",
       "    <tr>\n",
       "      <th>21</th>\n",
       "      <td>0.141414</td>\n",
       "      <td>0.110749</td>\n",
       "      <td>0.112583</td>\n",
       "      <td>0.071895</td>\n",
       "      <td>0.125000</td>\n",
       "      <td>0.108014</td>\n",
       "    </tr>\n",
       "    <tr>\n",
       "      <th>22</th>\n",
       "      <td>0.198653</td>\n",
       "      <td>0.156352</td>\n",
       "      <td>0.152318</td>\n",
       "      <td>0.111111</td>\n",
       "      <td>0.162879</td>\n",
       "      <td>0.142857</td>\n",
       "    </tr>\n",
       "    <tr>\n",
       "      <th>23</th>\n",
       "      <td>0.181818</td>\n",
       "      <td>0.172638</td>\n",
       "      <td>0.178808</td>\n",
       "      <td>0.071895</td>\n",
       "      <td>0.147727</td>\n",
       "      <td>0.139373</td>\n",
       "    </tr>\n",
       "    <tr>\n",
       "      <th>24</th>\n",
       "      <td>0.175084</td>\n",
       "      <td>0.146580</td>\n",
       "      <td>0.139073</td>\n",
       "      <td>0.104575</td>\n",
       "      <td>0.125000</td>\n",
       "      <td>0.142857</td>\n",
       "    </tr>\n",
       "    <tr>\n",
       "      <th>25</th>\n",
       "      <td>0.124579</td>\n",
       "      <td>0.114007</td>\n",
       "      <td>0.122517</td>\n",
       "      <td>0.019608</td>\n",
       "      <td>0.003788</td>\n",
       "      <td>0.027875</td>\n",
       "    </tr>\n",
       "    <tr>\n",
       "      <th>26</th>\n",
       "      <td>0.127946</td>\n",
       "      <td>0.114007</td>\n",
       "      <td>0.132450</td>\n",
       "      <td>0.000000</td>\n",
       "      <td>0.000000</td>\n",
       "      <td>0.000000</td>\n",
       "    </tr>\n",
       "    <tr>\n",
       "      <th>27</th>\n",
       "      <td>0.191919</td>\n",
       "      <td>0.140065</td>\n",
       "      <td>0.139073</td>\n",
       "      <td>0.117647</td>\n",
       "      <td>0.109848</td>\n",
       "      <td>0.108014</td>\n",
       "    </tr>\n",
       "    <tr>\n",
       "      <th>28</th>\n",
       "      <td>0.175084</td>\n",
       "      <td>0.162866</td>\n",
       "      <td>0.168874</td>\n",
       "      <td>0.189542</td>\n",
       "      <td>0.090909</td>\n",
       "      <td>0.101045</td>\n",
       "    </tr>\n",
       "    <tr>\n",
       "      <th>29</th>\n",
       "      <td>0.148148</td>\n",
       "      <td>0.127036</td>\n",
       "      <td>0.119205</td>\n",
       "      <td>0.209150</td>\n",
       "      <td>0.136364</td>\n",
       "      <td>0.156794</td>\n",
       "    </tr>\n",
       "    <tr>\n",
       "      <th>...</th>\n",
       "      <td>...</td>\n",
       "      <td>...</td>\n",
       "      <td>...</td>\n",
       "      <td>...</td>\n",
       "      <td>...</td>\n",
       "      <td>...</td>\n",
       "    </tr>\n",
       "    <tr>\n",
       "      <th>328</th>\n",
       "      <td>0.531987</td>\n",
       "      <td>0.534202</td>\n",
       "      <td>0.536424</td>\n",
       "      <td>0.575163</td>\n",
       "      <td>0.446970</td>\n",
       "      <td>0.477352</td>\n",
       "    </tr>\n",
       "    <tr>\n",
       "      <th>329</th>\n",
       "      <td>0.269360</td>\n",
       "      <td>0.267101</td>\n",
       "      <td>0.268212</td>\n",
       "      <td>0.477124</td>\n",
       "      <td>0.348485</td>\n",
       "      <td>0.369338</td>\n",
       "    </tr>\n",
       "    <tr>\n",
       "      <th>330</th>\n",
       "      <td>0.286195</td>\n",
       "      <td>0.286645</td>\n",
       "      <td>0.288079</td>\n",
       "      <td>0.477124</td>\n",
       "      <td>0.333333</td>\n",
       "      <td>0.355401</td>\n",
       "    </tr>\n",
       "    <tr>\n",
       "      <th>331</th>\n",
       "      <td>0.259259</td>\n",
       "      <td>0.276873</td>\n",
       "      <td>0.271523</td>\n",
       "      <td>0.405229</td>\n",
       "      <td>0.265152</td>\n",
       "      <td>0.271777</td>\n",
       "    </tr>\n",
       "    <tr>\n",
       "      <th>332</th>\n",
       "      <td>0.148148</td>\n",
       "      <td>0.149837</td>\n",
       "      <td>0.158940</td>\n",
       "      <td>0.405229</td>\n",
       "      <td>0.193182</td>\n",
       "      <td>0.195122</td>\n",
       "    </tr>\n",
       "    <tr>\n",
       "      <th>333</th>\n",
       "      <td>0.218855</td>\n",
       "      <td>0.188925</td>\n",
       "      <td>0.185430</td>\n",
       "      <td>0.398693</td>\n",
       "      <td>0.223485</td>\n",
       "      <td>0.219512</td>\n",
       "    </tr>\n",
       "    <tr>\n",
       "      <th>334</th>\n",
       "      <td>0.222222</td>\n",
       "      <td>0.188925</td>\n",
       "      <td>0.198675</td>\n",
       "      <td>0.509804</td>\n",
       "      <td>0.352273</td>\n",
       "      <td>0.358885</td>\n",
       "    </tr>\n",
       "    <tr>\n",
       "      <th>335</th>\n",
       "      <td>0.292929</td>\n",
       "      <td>0.263844</td>\n",
       "      <td>0.264901</td>\n",
       "      <td>0.359477</td>\n",
       "      <td>0.284091</td>\n",
       "      <td>0.317073</td>\n",
       "    </tr>\n",
       "    <tr>\n",
       "      <th>336</th>\n",
       "      <td>0.370370</td>\n",
       "      <td>0.371336</td>\n",
       "      <td>0.370861</td>\n",
       "      <td>0.248366</td>\n",
       "      <td>0.117424</td>\n",
       "      <td>0.149826</td>\n",
       "    </tr>\n",
       "    <tr>\n",
       "      <th>337</th>\n",
       "      <td>0.316498</td>\n",
       "      <td>0.273616</td>\n",
       "      <td>0.268212</td>\n",
       "      <td>0.320261</td>\n",
       "      <td>0.193182</td>\n",
       "      <td>0.167247</td>\n",
       "    </tr>\n",
       "    <tr>\n",
       "      <th>338</th>\n",
       "      <td>0.296296</td>\n",
       "      <td>0.270358</td>\n",
       "      <td>0.258278</td>\n",
       "      <td>0.156863</td>\n",
       "      <td>0.155303</td>\n",
       "      <td>0.156794</td>\n",
       "    </tr>\n",
       "    <tr>\n",
       "      <th>339</th>\n",
       "      <td>0.242424</td>\n",
       "      <td>0.224756</td>\n",
       "      <td>0.235099</td>\n",
       "      <td>0.091503</td>\n",
       "      <td>0.090909</td>\n",
       "      <td>0.125436</td>\n",
       "    </tr>\n",
       "    <tr>\n",
       "      <th>340</th>\n",
       "      <td>0.158249</td>\n",
       "      <td>0.159609</td>\n",
       "      <td>0.158940</td>\n",
       "      <td>0.065359</td>\n",
       "      <td>0.106061</td>\n",
       "      <td>0.135889</td>\n",
       "    </tr>\n",
       "    <tr>\n",
       "      <th>341</th>\n",
       "      <td>0.222222</td>\n",
       "      <td>0.201954</td>\n",
       "      <td>0.198675</td>\n",
       "      <td>0.189542</td>\n",
       "      <td>0.121212</td>\n",
       "      <td>0.139373</td>\n",
       "    </tr>\n",
       "    <tr>\n",
       "      <th>342</th>\n",
       "      <td>0.188552</td>\n",
       "      <td>0.169381</td>\n",
       "      <td>0.175497</td>\n",
       "      <td>0.294118</td>\n",
       "      <td>0.136364</td>\n",
       "      <td>0.139373</td>\n",
       "    </tr>\n",
       "    <tr>\n",
       "      <th>343</th>\n",
       "      <td>0.316498</td>\n",
       "      <td>0.302932</td>\n",
       "      <td>0.314570</td>\n",
       "      <td>0.385621</td>\n",
       "      <td>0.231061</td>\n",
       "      <td>0.212544</td>\n",
       "    </tr>\n",
       "    <tr>\n",
       "      <th>344</th>\n",
       "      <td>0.367003</td>\n",
       "      <td>0.348534</td>\n",
       "      <td>0.350993</td>\n",
       "      <td>0.254902</td>\n",
       "      <td>0.265152</td>\n",
       "      <td>0.233449</td>\n",
       "    </tr>\n",
       "    <tr>\n",
       "      <th>345</th>\n",
       "      <td>0.367003</td>\n",
       "      <td>0.332248</td>\n",
       "      <td>0.334437</td>\n",
       "      <td>0.320261</td>\n",
       "      <td>0.178030</td>\n",
       "      <td>0.191638</td>\n",
       "    </tr>\n",
       "    <tr>\n",
       "      <th>346</th>\n",
       "      <td>0.225589</td>\n",
       "      <td>0.201954</td>\n",
       "      <td>0.198675</td>\n",
       "      <td>0.287582</td>\n",
       "      <td>0.117424</td>\n",
       "      <td>0.125436</td>\n",
       "    </tr>\n",
       "    <tr>\n",
       "      <th>347</th>\n",
       "      <td>0.289562</td>\n",
       "      <td>0.250814</td>\n",
       "      <td>0.251656</td>\n",
       "      <td>0.281046</td>\n",
       "      <td>0.227273</td>\n",
       "      <td>0.236934</td>\n",
       "    </tr>\n",
       "    <tr>\n",
       "      <th>348</th>\n",
       "      <td>0.265993</td>\n",
       "      <td>0.247557</td>\n",
       "      <td>0.248344</td>\n",
       "      <td>0.320261</td>\n",
       "      <td>0.204545</td>\n",
       "      <td>0.222997</td>\n",
       "    </tr>\n",
       "    <tr>\n",
       "      <th>349</th>\n",
       "      <td>0.235690</td>\n",
       "      <td>0.205212</td>\n",
       "      <td>0.215232</td>\n",
       "      <td>0.379085</td>\n",
       "      <td>0.238636</td>\n",
       "      <td>0.261324</td>\n",
       "    </tr>\n",
       "    <tr>\n",
       "      <th>350</th>\n",
       "      <td>0.249158</td>\n",
       "      <td>0.221498</td>\n",
       "      <td>0.231788</td>\n",
       "      <td>0.522876</td>\n",
       "      <td>0.382576</td>\n",
       "      <td>0.407665</td>\n",
       "    </tr>\n",
       "    <tr>\n",
       "      <th>351</th>\n",
       "      <td>0.346801</td>\n",
       "      <td>0.325733</td>\n",
       "      <td>0.337748</td>\n",
       "      <td>0.457516</td>\n",
       "      <td>0.340909</td>\n",
       "      <td>0.358885</td>\n",
       "    </tr>\n",
       "    <tr>\n",
       "      <th>352</th>\n",
       "      <td>0.276094</td>\n",
       "      <td>0.263844</td>\n",
       "      <td>0.264901</td>\n",
       "      <td>0.379085</td>\n",
       "      <td>0.265152</td>\n",
       "      <td>0.257840</td>\n",
       "    </tr>\n",
       "    <tr>\n",
       "      <th>353</th>\n",
       "      <td>0.329966</td>\n",
       "      <td>0.319218</td>\n",
       "      <td>0.327815</td>\n",
       "      <td>0.209150</td>\n",
       "      <td>0.181818</td>\n",
       "      <td>0.205575</td>\n",
       "    </tr>\n",
       "    <tr>\n",
       "      <th>354</th>\n",
       "      <td>0.245791</td>\n",
       "      <td>0.228013</td>\n",
       "      <td>0.231788</td>\n",
       "      <td>0.398693</td>\n",
       "      <td>0.162879</td>\n",
       "      <td>0.174216</td>\n",
       "    </tr>\n",
       "    <tr>\n",
       "      <th>355</th>\n",
       "      <td>0.202020</td>\n",
       "      <td>0.182410</td>\n",
       "      <td>0.185430</td>\n",
       "      <td>0.470588</td>\n",
       "      <td>0.109848</td>\n",
       "      <td>0.146341</td>\n",
       "    </tr>\n",
       "    <tr>\n",
       "      <th>356</th>\n",
       "      <td>0.202020</td>\n",
       "      <td>0.185668</td>\n",
       "      <td>0.192053</td>\n",
       "      <td>0.359477</td>\n",
       "      <td>0.143939</td>\n",
       "      <td>0.139373</td>\n",
       "    </tr>\n",
       "    <tr>\n",
       "      <th>357</th>\n",
       "      <td>0.249158</td>\n",
       "      <td>0.228013</td>\n",
       "      <td>0.228477</td>\n",
       "      <td>0.385621</td>\n",
       "      <td>0.147727</td>\n",
       "      <td>0.167247</td>\n",
       "    </tr>\n",
       "  </tbody>\n",
       "</table>\n",
       "<p>358 rows × 6 columns</p>\n",
       "</div>"
      ],
      "text/plain": [
       "            0         1         2         3         4         5\n",
       "0    0.151515  0.127036  0.129139  0.215686  0.056818  0.080139\n",
       "1    0.181818  0.162866  0.132450  0.183007  0.026515  0.066202\n",
       "2    0.138047  0.114007  0.112583  0.156863  0.003788  0.013937\n",
       "3    0.144781  0.104235  0.122517  0.320261  0.060606  0.066202\n",
       "4    0.222222  0.192182  0.188742  0.464052  0.109848  0.142857\n",
       "5    0.151515  0.136808  0.125828  0.261438  0.125000  0.125436\n",
       "6    0.154882  0.123779  0.119205  0.261438  0.098485  0.094077\n",
       "7    0.127946  0.104235  0.102649  0.254902  0.117424  0.132404\n",
       "8    0.124579  0.114007  0.122517  0.189542  0.064394  0.108014\n",
       "9    0.040404  0.016287  0.000000  0.320261  0.060606  0.083624\n",
       "10   0.188552  0.166124  0.182119  0.352941  0.117424  0.156794\n",
       "11   0.127946  0.110749  0.119205  0.464052  0.170455  0.212544\n",
       "12   0.181818  0.169381  0.172185  0.294118  0.200758  0.202091\n",
       "13   0.161616  0.117264  0.122517  0.235294  0.143939  0.153310\n",
       "14   0.161616  0.078176  0.089404  0.267974  0.143939  0.146341\n",
       "15   0.195286  0.162866  0.165563  0.137255  0.034091  0.083624\n",
       "16   0.195286  0.182410  0.168874  0.026144  0.030303  0.066202\n",
       "17   0.171717  0.162866  0.152318  0.104575  0.094697  0.087108\n",
       "18   0.195286  0.192182  0.155629  0.222222  0.143939  0.146341\n",
       "19   0.212121  0.188925  0.182119  0.287582  0.234848  0.250871\n",
       "20   0.168350  0.153094  0.152318  0.130719  0.090909  0.111498\n",
       "21   0.141414  0.110749  0.112583  0.071895  0.125000  0.108014\n",
       "22   0.198653  0.156352  0.152318  0.111111  0.162879  0.142857\n",
       "23   0.181818  0.172638  0.178808  0.071895  0.147727  0.139373\n",
       "24   0.175084  0.146580  0.139073  0.104575  0.125000  0.142857\n",
       "25   0.124579  0.114007  0.122517  0.019608  0.003788  0.027875\n",
       "26   0.127946  0.114007  0.132450  0.000000  0.000000  0.000000\n",
       "27   0.191919  0.140065  0.139073  0.117647  0.109848  0.108014\n",
       "28   0.175084  0.162866  0.168874  0.189542  0.090909  0.101045\n",
       "29   0.148148  0.127036  0.119205  0.209150  0.136364  0.156794\n",
       "..        ...       ...       ...       ...       ...       ...\n",
       "328  0.531987  0.534202  0.536424  0.575163  0.446970  0.477352\n",
       "329  0.269360  0.267101  0.268212  0.477124  0.348485  0.369338\n",
       "330  0.286195  0.286645  0.288079  0.477124  0.333333  0.355401\n",
       "331  0.259259  0.276873  0.271523  0.405229  0.265152  0.271777\n",
       "332  0.148148  0.149837  0.158940  0.405229  0.193182  0.195122\n",
       "333  0.218855  0.188925  0.185430  0.398693  0.223485  0.219512\n",
       "334  0.222222  0.188925  0.198675  0.509804  0.352273  0.358885\n",
       "335  0.292929  0.263844  0.264901  0.359477  0.284091  0.317073\n",
       "336  0.370370  0.371336  0.370861  0.248366  0.117424  0.149826\n",
       "337  0.316498  0.273616  0.268212  0.320261  0.193182  0.167247\n",
       "338  0.296296  0.270358  0.258278  0.156863  0.155303  0.156794\n",
       "339  0.242424  0.224756  0.235099  0.091503  0.090909  0.125436\n",
       "340  0.158249  0.159609  0.158940  0.065359  0.106061  0.135889\n",
       "341  0.222222  0.201954  0.198675  0.189542  0.121212  0.139373\n",
       "342  0.188552  0.169381  0.175497  0.294118  0.136364  0.139373\n",
       "343  0.316498  0.302932  0.314570  0.385621  0.231061  0.212544\n",
       "344  0.367003  0.348534  0.350993  0.254902  0.265152  0.233449\n",
       "345  0.367003  0.332248  0.334437  0.320261  0.178030  0.191638\n",
       "346  0.225589  0.201954  0.198675  0.287582  0.117424  0.125436\n",
       "347  0.289562  0.250814  0.251656  0.281046  0.227273  0.236934\n",
       "348  0.265993  0.247557  0.248344  0.320261  0.204545  0.222997\n",
       "349  0.235690  0.205212  0.215232  0.379085  0.238636  0.261324\n",
       "350  0.249158  0.221498  0.231788  0.522876  0.382576  0.407665\n",
       "351  0.346801  0.325733  0.337748  0.457516  0.340909  0.358885\n",
       "352  0.276094  0.263844  0.264901  0.379085  0.265152  0.257840\n",
       "353  0.329966  0.319218  0.327815  0.209150  0.181818  0.205575\n",
       "354  0.245791  0.228013  0.231788  0.398693  0.162879  0.174216\n",
       "355  0.202020  0.182410  0.185430  0.470588  0.109848  0.146341\n",
       "356  0.202020  0.185668  0.192053  0.359477  0.143939  0.139373\n",
       "357  0.249158  0.228013  0.228477  0.385621  0.147727  0.167247\n",
       "\n",
       "[358 rows x 6 columns]"
      ]
     },
     "execution_count": 111,
     "metadata": {},
     "output_type": "execute_result"
    }
   ],
   "source": [
    "df_ax"
   ]
  },
  {
   "cell_type": "code",
   "execution_count": 112,
   "metadata": {
    "colab": {},
    "colab_type": "code",
    "id": "43DPv0FrvzTu"
   },
   "outputs": [],
   "source": [
    "from keras.layers import Dense, Dropout\n",
    "%matplotlib inline\n",
    "from keras.layers.convolutional import Conv1D, UpSampling1D\n",
    "from keras.layers.pooling import MaxPooling1D"
   ]
  },
  {
   "cell_type": "code",
   "execution_count": 113,
   "metadata": {
    "colab": {
     "base_uri": "https://localhost:8080/",
     "height": 265
    },
    "colab_type": "code",
    "executionInfo": {
     "elapsed": 1380,
     "status": "ok",
     "timestamp": 1580283123041,
     "user": {
      "displayName": "omez ario",
      "photoUrl": "https://lh3.googleusercontent.com/a-/AAuE7mC9BxaBrxzccVNpko1HTvBIbiJ2t0fxuBU_L3Bb=s64",
      "userId": "14694671835625384382"
     },
     "user_tz": -540
    },
    "id": "EBLyEqfzvzWk",
    "outputId": "71804847-41c2-40fc-ddf3-8528fbdf5b86"
   },
   "outputs": [
    {
     "data": {
      "image/png": "[encoded data removed]",
      "text/plain": [
       "<Figure size 432x288 with 1 Axes>"
      ]
     },
     "metadata": {
      "needs_background": "light"
     },
     "output_type": "display_data"
    }
   ],
   "source": [
    "plt.plot(df_ax.loc[:,[0]])\n",
    "plt.show()"
   ]
  },
  {
   "cell_type": "code",
   "execution_count": 114,
   "metadata": {
    "colab": {
     "base_uri": "https://localhost:8080/",
     "height": 34
    },
    "colab_type": "code",
    "executionInfo": {
     "elapsed": 683,
     "status": "ok",
     "timestamp": 1580283124250,
     "user": {
      "displayName": "omez ario",
      "photoUrl": "https://lh3.googleusercontent.com/a-/AAuE7mC9BxaBrxzccVNpko1HTvBIbiJ2t0fxuBU_L3Bb=s64",
      "userId": "14694671835625384382"
     },
     "user_tz": -540
    },
    "id": "t_lSnvD2vzbd",
    "outputId": "f1bf2ad2-1d54-4ecf-e6d5-27b6b0be58e2"
   },
   "outputs": [
    {
     "data": {
      "text/plain": [
       "(358,)"
      ]
     },
     "execution_count": 114,
     "metadata": {},
     "output_type": "execute_result"
    }
   ],
   "source": [
    "rawdata = df_ax.loc[:, [0]]\n",
    "raw_data = rawdata.values\n",
    "raw_data = raw_data.reshape([358])\n",
    "#raw_data_noise = noise_ax.reshape([358])\n",
    "raw_data.shape"
   ]
  },
  {
   "cell_type": "code",
   "execution_count": 115,
   "metadata": {
    "colab": {
     "base_uri": "https://localhost:8080/",
     "height": 51
    },
    "colab_type": "code",
    "executionInfo": {
     "elapsed": 939,
     "status": "ok",
     "timestamp": 1580283125723,
     "user": {
      "displayName": "omez ario",
      "photoUrl": "https://lh3.googleusercontent.com/a-/AAuE7mC9BxaBrxzccVNpko1HTvBIbiJ2t0fxuBU_L3Bb=s64",
      "userId": "14694671835625384382"
     },
     "user_tz": -540
    },
    "id": "OuWFgvIbvzhG",
    "outputId": "3e972f86-91f6-40b3-8444-44d00d4eb227"
   },
   "outputs": [
    {
     "name": "stdout",
     "output_type": "stream",
     "text": [
      "(308, 50)\n",
      "(308, 50)\n"
     ]
    }
   ],
   "source": [
    "input_data = []\n",
    "output_data = []\n",
    "for n in range(358-50):\n",
    "    input_data.append(raw_data[n:n+50])\n",
    "    output_data.append(raw_data[n:n+50])\n",
    "\n",
    "input_data = np.array(input_data)\n",
    "output_data = np.array(output_data)\n",
    "print(input_data.shape)\n",
    "print(output_data.shape)"
   ]
  },
  {
   "cell_type": "code",
   "execution_count": 116,
   "metadata": {
    "colab": {
     "base_uri": "https://localhost:8080/",
     "height": 51
    },
    "colab_type": "code",
    "executionInfo": {
     "elapsed": 955,
     "status": "ok",
     "timestamp": 1580283131516,
     "user": {
      "displayName": "omez ario",
      "photoUrl": "https://lh3.googleusercontent.com/a-/AAuE7mC9BxaBrxzccVNpko1HTvBIbiJ2t0fxuBU_L3Bb=s64",
      "userId": "14694671835625384382"
     },
     "user_tz": -540
    },
    "id": "giY6PyMHvzZ5",
    "outputId": "ce7c0c21-f7f9-4458-e554-69bf897bf054"
   },
   "outputs": [
    {
     "name": "stdout",
     "output_type": "stream",
     "text": [
      "(308, 50, 1)\n",
      "(308, 50)\n"
     ]
    }
   ],
   "source": [
    "#一次元畳み込み層における入力の形状(shape)は(<シーケンス長>, <パラメータ数>)\n",
    "#つまり(<連続した数値>, <次元数>)\n",
    "train_X = np.reshape(input_data,  (-1, 50, 1))\n",
    "train_Y = np.reshape(output_data, (-1, 50))\n",
    "print(train_X.shape)\n",
    "print(train_Y.shape)"
   ]
  },
  {
   "cell_type": "code",
   "execution_count": 117,
   "metadata": {
    "colab": {
     "base_uri": "https://localhost:8080/",
     "height": 207
    },
    "colab_type": "code",
    "executionInfo": {
     "elapsed": 1652,
     "status": "ok",
     "timestamp": 1580283135136,
     "user": {
      "displayName": "omez ario",
      "photoUrl": "https://lh3.googleusercontent.com/a-/AAuE7mC9BxaBrxzccVNpko1HTvBIbiJ2t0fxuBU_L3Bb=s64",
      "userId": "14694671835625384382"
     },
     "user_tz": -540
    },
    "id": "2r9nDLrWwXcJ",
    "outputId": "6a67ab77-2f6a-4200-aec7-1a150ea43b0b"
   },
   "outputs": [],
   "source": [
    "#学習フェーズver.2\n",
    "from keras.layers import Flatten\n",
    "model = Sequential()\n",
    "\n",
    "model.add(Conv1D(filters=32, kernel_size=8,padding='same',input_shape=(50, 1)))\n",
    "model.add(MaxPooling1D(pool_size=2,padding='same'))\n",
    "model.add(Conv1D(16, 4, padding='same', activation='relu'))\n",
    "model.add(MaxPooling1D(2, padding='same'))\n",
    "model.add(Conv1D(8, 2, padding='same', activation='relu'))\n",
    "model.add(Flatten())\n",
    "model.add(Dense(100, activation='relu'))\n",
    "model.add(Dense(50, activation='relu'))\n",
    "model.compile(loss='mse', optimizer='adam')"
   ]
  },
  {
   "cell_type": "code",
   "execution_count": 118,
   "metadata": {
    "colab": {
     "base_uri": "https://localhost:8080/",
     "height": 870
    },
    "colab_type": "code",
    "executionInfo": {
     "elapsed": 1083,
     "status": "ok",
     "timestamp": 1580283137245,
     "user": {
      "displayName": "omez ario",
      "photoUrl": "https://lh3.googleusercontent.com/a-/AAuE7mC9BxaBrxzccVNpko1HTvBIbiJ2t0fxuBU_L3Bb=s64",
      "userId": "14694671835625384382"
     },
     "user_tz": -540
    },
    "id": "lrZXi0mawXim",
    "outputId": "2e70b661-2aa9-410a-a749-3d1ae242648b"
   },
   "outputs": [
    {
     "name": "stdout",
     "output_type": "stream",
     "text": [
      "Model: \"sequential_8\"\n",
      "_________________________________________________________________\n",
      "Layer (type)                 Output Shape              Param #   \n",
      "=================================================================\n",
      "conv1d_19 (Conv1D)           (None, 50, 32)            288       \n",
      "_________________________________________________________________\n",
      "max_pooling1d_15 (MaxPooling (None, 25, 32)            0         \n",
      "_________________________________________________________________\n",
      "conv1d_20 (Conv1D)           (None, 25, 16)            2064      \n",
      "_________________________________________________________________\n",
      "max_pooling1d_16 (MaxPooling (None, 13, 16)            0         \n",
      "_________________________________________________________________\n",
      "conv1d_21 (Conv1D)           (None, 13, 8)             264       \n",
      "_________________________________________________________________\n",
      "flatten_9 (Flatten)          (None, 104)               0         \n",
      "_________________________________________________________________\n",
      "dense_13 (Dense)             (None, 100)               10500     \n",
      "_________________________________________________________________\n",
      "dense_14 (Dense)             (None, 50)                5050      \n",
      "=================================================================\n",
      "Total params: 18,166\n",
      "Trainable params: 18,166\n",
      "Non-trainable params: 0\n",
      "_________________________________________________________________\n"
     ]
    },
    {
     "data": {
      "image/png": "[encoded data removed]",
      "text/plain": [
       "<IPython.core.display.Image object>"
      ]
     },
     "execution_count": 118,
     "metadata": {},
     "output_type": "execute_result"
    }
   ],
   "source": [
    "from keras.utils import plot_model\n",
    "model.summary()\n",
    "tf.keras.utils.plot_model(model)"
   ]
  },
  {
   "cell_type": "code",
   "execution_count": 119,
   "metadata": {
    "colab": {},
    "colab_type": "code",
    "id": "syL4fX2Swg95"
   },
   "outputs": [],
   "source": [
    "epochs = 100"
   ]
  },
  {
   "cell_type": "code",
   "execution_count": 120,
   "metadata": {
    "colab": {
     "base_uri": "https://localhost:8080/",
     "height": 1000
    },
    "colab_type": "code",
    "executionInfo": {
     "elapsed": 21417,
     "status": "ok",
     "timestamp": 1580283161977,
     "user": {
      "displayName": "omez ario",
      "photoUrl": "https://lh3.googleusercontent.com/a-/AAuE7mC9BxaBrxzccVNpko1HTvBIbiJ2t0fxuBU_L3Bb=s64",
      "userId": "14694671835625384382"
     },
     "user_tz": -540
    },
    "id": "hSC78yGBwhBY",
    "outputId": "8ccb07ac-f6dd-48e1-da0a-da3ed27c4c9d",
    "scrolled": true
   },
   "outputs": [
    {
     "name": "stdout",
     "output_type": "stream",
     "text": [
      "Train on 277 samples, validate on 31 samples\n",
      "Epoch 1/100\n",
      "277/277 [==============================] - 1s 4ms/step - loss: 0.3213 - val_loss: 0.0947\n",
      "Epoch 2/100\n",
      "277/277 [==============================] - 0s 318us/step - loss: 0.1605 - val_loss: 0.0732\n",
      "Epoch 3/100\n",
      "277/277 [==============================] - 0s 285us/step - loss: 0.1158 - val_loss: 0.0560\n",
      "Epoch 4/100\n",
      "277/277 [==============================] - 0s 292us/step - loss: 0.1016 - val_loss: 0.0552\n",
      "Epoch 5/100\n",
      "277/277 [==============================] - 0s 303us/step - loss: 0.0933 - val_loss: 0.0525\n",
      "Epoch 6/100\n",
      "277/277 [==============================] - 0s 263us/step - loss: 0.0869 - val_loss: 0.0528\n",
      "Epoch 7/100\n",
      "277/277 [==============================] - 0s 285us/step - loss: 0.0851 - val_loss: 0.0528\n",
      "Epoch 8/100\n",
      "277/277 [==============================] - 0s 343us/step - loss: 0.0846 - val_loss: 0.0516\n",
      "Epoch 9/100\n",
      "277/277 [==============================] - 0s 390us/step - loss: 0.0842 - val_loss: 0.0508\n",
      "Epoch 10/100\n",
      "277/277 [==============================] - 0s 379us/step - loss: 0.0838 - val_loss: 0.0508\n",
      "Epoch 11/100\n",
      "277/277 [==============================] - 0s 346us/step - loss: 0.0836 - val_loss: 0.0502\n",
      "Epoch 12/100\n",
      "277/277 [==============================] - 0s 292us/step - loss: 0.0834 - val_loss: 0.0496\n",
      "Epoch 13/100\n",
      "277/277 [==============================] - 0s 256us/step - loss: 0.0832 - val_loss: 0.0497\n",
      "Epoch 14/100\n",
      "277/277 [==============================] - 0s 621us/step - loss: 0.0830 - val_loss: 0.0492\n",
      "Epoch 15/100\n",
      "277/277 [==============================] - 0s 512us/step - loss: 0.0828 - val_loss: 0.0489\n",
      "Epoch 16/100\n",
      "277/277 [==============================] - 0s 318us/step - loss: 0.0826 - val_loss: 0.0486\n",
      "Epoch 17/100\n",
      "277/277 [==============================] - 0s 343us/step - loss: 0.0825 - val_loss: 0.0484\n",
      "Epoch 18/100\n",
      "277/277 [==============================] - 0s 299us/step - loss: 0.0823 - val_loss: 0.0478\n",
      "Epoch 19/100\n",
      "277/277 [==============================] - 0s 336us/step - loss: 0.0821 - val_loss: 0.0478\n",
      "Epoch 20/100\n",
      "277/277 [==============================] - 0s 303us/step - loss: 0.0819 - val_loss: 0.0473\n",
      "Epoch 21/100\n",
      "277/277 [==============================] - 0s 332us/step - loss: 0.0817 - val_loss: 0.0470\n",
      "Epoch 22/100\n",
      "277/277 [==============================] - 0s 325us/step - loss: 0.0815 - val_loss: 0.0466\n",
      "Epoch 23/100\n",
      "277/277 [==============================] - 0s 303us/step - loss: 0.0813 - val_loss: 0.0463\n",
      "Epoch 24/100\n",
      "277/277 [==============================] - 0s 303us/step - loss: 0.0811 - val_loss: 0.0458\n",
      "Epoch 25/100\n",
      "277/277 [==============================] - 0s 325us/step - loss: 0.0810 - val_loss: 0.0455\n",
      "Epoch 26/100\n",
      "277/277 [==============================] - 0s 310us/step - loss: 0.0809 - val_loss: 0.0453\n",
      "Epoch 27/100\n",
      "277/277 [==============================] - 0s 310us/step - loss: 0.0808 - val_loss: 0.0450\n",
      "Epoch 28/100\n",
      "277/277 [==============================] - 0s 361us/step - loss: 0.0807 - val_loss: 0.0448\n",
      "Epoch 29/100\n",
      "277/277 [==============================] - 0s 274us/step - loss: 0.0806 - val_loss: 0.0447\n",
      "Epoch 30/100\n",
      "277/277 [==============================] - 0s 296us/step - loss: 0.0805 - val_loss: 0.0446\n",
      "Epoch 31/100\n",
      "277/277 [==============================] - 0s 274us/step - loss: 0.0805 - val_loss: 0.0445\n",
      "Epoch 32/100\n",
      "277/277 [==============================] - 0s 267us/step - loss: 0.0805 - val_loss: 0.0444\n",
      "Epoch 33/100\n",
      "277/277 [==============================] - 0s 303us/step - loss: 0.0804 - val_loss: 0.0444\n",
      "Epoch 34/100\n",
      "277/277 [==============================] - 0s 325us/step - loss: 0.0804 - val_loss: 0.0443\n",
      "Epoch 35/100\n",
      "277/277 [==============================] - 0s 285us/step - loss: 0.0803 - val_loss: 0.0442\n",
      "Epoch 36/100\n",
      "277/277 [==============================] - 0s 310us/step - loss: 0.0803 - val_loss: 0.0441\n",
      "Epoch 37/100\n",
      "277/277 [==============================] - 0s 281us/step - loss: 0.0803 - val_loss: 0.0441\n",
      "Epoch 38/100\n",
      "277/277 [==============================] - 0s 281us/step - loss: 0.0802 - val_loss: 0.0441\n",
      "Epoch 39/100\n",
      "277/277 [==============================] - 0s 303us/step - loss: 0.0802 - val_loss: 0.0441\n",
      "Epoch 40/100\n",
      "277/277 [==============================] - 0s 263us/step - loss: 0.0801 - val_loss: 0.0441\n",
      "Epoch 41/100\n",
      "277/277 [==============================] - 0s 278us/step - loss: 0.0801 - val_loss: 0.0440\n",
      "Epoch 42/100\n",
      "277/277 [==============================] - 0s 271us/step - loss: 0.0801 - val_loss: 0.0440\n",
      "Epoch 43/100\n",
      "277/277 [==============================] - 0s 274us/step - loss: 0.0800 - val_loss: 0.0440\n",
      "Epoch 44/100\n",
      "277/277 [==============================] - 0s 289us/step - loss: 0.0800 - val_loss: 0.0439\n",
      "Epoch 45/100\n",
      "277/277 [==============================] - 0s 281us/step - loss: 0.0800 - val_loss: 0.0439\n",
      "Epoch 46/100\n",
      "277/277 [==============================] - 0s 278us/step - loss: 0.0799 - val_loss: 0.0439\n",
      "Epoch 47/100\n",
      "277/277 [==============================] - 0s 274us/step - loss: 0.0799 - val_loss: 0.0439\n",
      "Epoch 48/100\n",
      "277/277 [==============================] - 0s 285us/step - loss: 0.0798 - val_loss: 0.0438\n",
      "Epoch 49/100\n",
      "277/277 [==============================] - 0s 343us/step - loss: 0.0798 - val_loss: 0.0438\n",
      "Epoch 50/100\n",
      "277/277 [==============================] - 0s 289us/step - loss: 0.0798 - val_loss: 0.0438\n",
      "Epoch 51/100\n",
      "277/277 [==============================] - 0s 372us/step - loss: 0.0797 - val_loss: 0.0438\n",
      "Epoch 52/100\n",
      "277/277 [==============================] - 0s 364us/step - loss: 0.0797 - val_loss: 0.0438\n",
      "Epoch 53/100\n",
      "277/277 [==============================] - 0s 303us/step - loss: 0.0796 - val_loss: 0.0438\n",
      "Epoch 54/100\n",
      "277/277 [==============================] - 0s 343us/step - loss: 0.0796 - val_loss: 0.0437\n",
      "Epoch 55/100\n",
      "277/277 [==============================] - 0s 289us/step - loss: 0.0795 - val_loss: 0.0437\n",
      "Epoch 56/100\n",
      "277/277 [==============================] - 0s 289us/step - loss: 0.0795 - val_loss: 0.0437\n",
      "Epoch 57/100\n",
      "277/277 [==============================] - 0s 263us/step - loss: 0.0795 - val_loss: 0.0436\n",
      "Epoch 58/100\n",
      "277/277 [==============================] - 0s 346us/step - loss: 0.0794 - val_loss: 0.0436\n",
      "Epoch 59/100\n",
      "277/277 [==============================] - 0s 354us/step - loss: 0.0794 - val_loss: 0.0436\n",
      "Epoch 60/100\n",
      "277/277 [==============================] - 0s 325us/step - loss: 0.0793 - val_loss: 0.0436\n",
      "Epoch 61/100\n",
      "277/277 [==============================] - 0s 289us/step - loss: 0.0793 - val_loss: 0.0435\n",
      "Epoch 62/100\n",
      "277/277 [==============================] - 0s 253us/step - loss: 0.0781 - val_loss: 0.0409\n",
      "Epoch 63/100\n",
      "277/277 [==============================] - 0s 354us/step - loss: 0.0719 - val_loss: 0.0421\n",
      "Epoch 64/100\n",
      "277/277 [==============================] - 0s 332us/step - loss: 0.0714 - val_loss: 0.0410\n",
      "Epoch 65/100\n",
      "277/277 [==============================] - 0s 339us/step - loss: 0.0709 - val_loss: 0.0409\n",
      "Epoch 66/100\n",
      "277/277 [==============================] - 0s 339us/step - loss: 0.0708 - val_loss: 0.0409\n",
      "Epoch 67/100\n",
      "277/277 [==============================] - 0s 339us/step - loss: 0.0707 - val_loss: 0.0409\n",
      "Epoch 68/100\n",
      "277/277 [==============================] - 0s 417us/step - loss: 0.0706 - val_loss: 0.0408\n",
      "Epoch 69/100\n",
      "277/277 [==============================] - 0s 355us/step - loss: 0.0705 - val_loss: 0.0408\n",
      "Epoch 70/100\n",
      "277/277 [==============================] - 0s 393us/step - loss: 0.0705 - val_loss: 0.0407\n",
      "Epoch 71/100\n",
      "277/277 [==============================] - 0s 408us/step - loss: 0.0704 - val_loss: 0.0407\n",
      "Epoch 72/100\n",
      "277/277 [==============================] - 0s 431us/step - loss: 0.0704 - val_loss: 0.0407\n",
      "Epoch 73/100\n",
      "277/277 [==============================] - 0s 402us/step - loss: 0.0703 - val_loss: 0.0406\n",
      "Epoch 74/100\n",
      "277/277 [==============================] - 0s 361us/step - loss: 0.0703 - val_loss: 0.0406\n",
      "Epoch 75/100\n",
      "277/277 [==============================] - 0s 353us/step - loss: 0.0702 - val_loss: 0.0406\n",
      "Epoch 76/100\n",
      "277/277 [==============================] - 0s 354us/step - loss: 0.0701 - val_loss: 0.0405\n",
      "Epoch 77/100\n",
      "277/277 [==============================] - 0s 350us/step - loss: 0.0700 - val_loss: 0.0404\n",
      "Epoch 78/100\n",
      "277/277 [==============================] - 0s 343us/step - loss: 0.0700 - val_loss: 0.0403\n",
      "Epoch 79/100\n"
     ]
    },
    {
     "name": "stdout",
     "output_type": "stream",
     "text": [
      "277/277 [==============================] - 0s 343us/step - loss: 0.0699 - val_loss: 0.0402\n",
      "Epoch 80/100\n",
      "277/277 [==============================] - 0s 375us/step - loss: 0.0698 - val_loss: 0.0402\n",
      "Epoch 81/100\n",
      "277/277 [==============================] - 0s 343us/step - loss: 0.0688 - val_loss: 0.0353\n",
      "Epoch 82/100\n",
      "277/277 [==============================] - 0s 346us/step - loss: 0.0598 - val_loss: 0.0331\n",
      "Epoch 83/100\n",
      "277/277 [==============================] - 0s 397us/step - loss: 0.0547 - val_loss: 0.0331\n",
      "Epoch 84/100\n",
      "277/277 [==============================] - 0s 437us/step - loss: 0.0539 - val_loss: 0.0321\n",
      "Epoch 85/100\n",
      "277/277 [==============================] - 0s 332us/step - loss: 0.0535 - val_loss: 0.0323\n",
      "Epoch 86/100\n",
      "277/277 [==============================] - 0s 530us/step - loss: 0.0532 - val_loss: 0.0321\n",
      "Epoch 87/100\n",
      "277/277 [==============================] - 0s 687us/step - loss: 0.0530 - val_loss: 0.0318\n",
      "Epoch 88/100\n",
      "277/277 [==============================] - 0s 424us/step - loss: 0.0529 - val_loss: 0.0317\n",
      "Epoch 89/100\n",
      "277/277 [==============================] - 0s 382us/step - loss: 0.0529 - val_loss: 0.0316\n",
      "Epoch 90/100\n",
      "277/277 [==============================] - 0s 386us/step - loss: 0.0528 - val_loss: 0.0316\n",
      "Epoch 91/100\n",
      "277/277 [==============================] - 0s 346us/step - loss: 0.0527 - val_loss: 0.0315\n",
      "Epoch 92/100\n",
      "277/277 [==============================] - 0s 379us/step - loss: 0.0527 - val_loss: 0.0314\n",
      "Epoch 93/100\n",
      "277/277 [==============================] - 0s 438us/step - loss: 0.0527 - val_loss: 0.0315\n",
      "Epoch 94/100\n",
      "277/277 [==============================] - 0s 267us/step - loss: 0.0526 - val_loss: 0.0314\n",
      "Epoch 95/100\n",
      "277/277 [==============================] - 0s 307us/step - loss: 0.0526 - val_loss: 0.0314\n",
      "Epoch 96/100\n",
      "277/277 [==============================] - 0s 289us/step - loss: 0.0526 - val_loss: 0.0313\n",
      "Epoch 97/100\n",
      "277/277 [==============================] - 0s 256us/step - loss: 0.0525 - val_loss: 0.0313\n",
      "Epoch 98/100\n",
      "277/277 [==============================] - 0s 263us/step - loss: 0.0525 - val_loss: 0.0313\n",
      "Epoch 99/100\n",
      "277/277 [==============================] - 0s 256us/step - loss: 0.0525 - val_loss: 0.0313\n",
      "Epoch 100/100\n",
      "277/277 [==============================] - 0s 271us/step - loss: 0.0525 - val_loss: 0.0312\n"
     ]
    }
   ],
   "source": [
    "history = model.fit(train_X, train_Y, validation_split=0.1, epochs=epochs)"
   ]
  },
  {
   "cell_type": "code",
   "execution_count": 121,
   "metadata": {
    "colab": {
     "base_uri": "https://localhost:8080/",
     "height": 279
    },
    "colab_type": "code",
    "executionInfo": {
     "elapsed": 20148,
     "status": "ok",
     "timestamp": 1580283161985,
     "user": {
      "displayName": "omez ario",
      "photoUrl": "https://lh3.googleusercontent.com/a-/AAuE7mC9BxaBrxzccVNpko1HTvBIbiJ2t0fxuBU_L3Bb=s64",
      "userId": "14694671835625384382"
     },
     "user_tz": -540
    },
    "id": "zIX4AhJYwhGe",
    "outputId": "5b553079-9b25-4c0b-c471-107ebf09d733"
   },
   "outputs": [
    {
     "data": {
      "image/png": "[encoded data removed]",
      "text/plain": [
       "<Figure size 432x288 with 1 Axes>"
      ]
     },
     "metadata": {
      "needs_background": "light"
     },
     "output_type": "display_data"
    }
   ],
   "source": [
    "plt.plot(range(epochs), history.history['loss'], label='loss')\n",
    "plt.plot(range(epochs), history.history['val_loss'], label='val_loss')\n",
    "plt.xlabel('epoch')\n",
    "plt.ylabel('loss')\n",
    "plt.legend() \n",
    "plt.show()"
   ]
  },
  {
   "cell_type": "code",
   "execution_count": 122,
   "metadata": {
    "colab": {
     "base_uri": "https://localhost:8080/",
     "height": 238
    },
    "colab_type": "code",
    "executionInfo": {
     "elapsed": 804,
     "status": "ok",
     "timestamp": 1580283499670,
     "user": {
      "displayName": "omez ario",
      "photoUrl": "https://lh3.googleusercontent.com/a-/AAuE7mC9BxaBrxzccVNpko1HTvBIbiJ2t0fxuBU_L3Bb=s64",
      "userId": "14694671835625384382"
     },
     "user_tz": -540
    },
    "id": "VO-NX9I_N1Z1",
    "outputId": "71144db7-dcb8-41d1-e340-8fce7e20b825"
   },
   "outputs": [],
   "source": [
    "from keras import backend as K\n",
    "getFeature = K.function([model.get_input_at(0), K.learning_phase()],  [model.layers[7].output])\n",
    "exTrain = getFeature([train_X, 0])[0]"
   ]
  },
  {
   "cell_type": "code",
   "execution_count": 123,
   "metadata": {
    "colab": {
     "base_uri": "https://localhost:8080/",
     "height": 119
    },
    "colab_type": "code",
    "executionInfo": {
     "elapsed": 555,
     "status": "ok",
     "timestamp": 1580204710925,
     "user": {
      "displayName": "omez ario",
      "photoUrl": "https://lh3.googleusercontent.com/a-/AAuE7mC9BxaBrxzccVNpko1HTvBIbiJ2t0fxuBU_L3Bb=s64",
      "userId": "14694671835625384382"
     },
     "user_tz": -540
    },
    "id": "9NvesW9nvzRM",
    "outputId": "e172a2dd-39ad-465b-85be-1363568d027c"
   },
   "outputs": [],
   "source": [
    "start = 0\n",
    "for i in range(6):\n",
    "    sheed = np.reshape(raw_data[start:start+50], (1, 50, 1))\n",
    "    ans = raw_data[start:start+50]\n",
    "    start += 50\n",
    "    if i == 0:\n",
    "        prediction = sheed\n",
    "        res = model.predict(sheed)\n",
    "        res = res.reshape(1,50,1)\n",
    "        prediction = res\n",
    "        answer = ans\n",
    "    else:\n",
    "        res = model.predict(sheed)\n",
    "        res = res.reshape(1,50,1)\n",
    "        prediction = np.concatenate((prediction, res), axis=1)\n",
    "        answer = np.concatenate((answer, ans))"
   ]
  },
  {
   "cell_type": "code",
   "execution_count": 124,
   "metadata": {
    "colab": {
     "base_uri": "https://localhost:8080/",
     "height": 299
    },
    "colab_type": "code",
    "executionInfo": {
     "elapsed": 911,
     "status": "ok",
     "timestamp": 1580204722367,
     "user": {
      "displayName": "omez ario",
      "photoUrl": "https://lh3.googleusercontent.com/a-/AAuE7mC9BxaBrxzccVNpko1HTvBIbiJ2t0fxuBU_L3Bb=s64",
      "userId": "14694671835625384382"
     },
     "user_tz": -540
    },
    "id": "ZenZSdXuvzEn",
    "outputId": "b857e78a-f908-4f9b-e147-614fa37bf96f"
   },
   "outputs": [
    {
     "name": "stdout",
     "output_type": "stream",
     "text": [
      "(1, 300, 1)\n",
      "(300,)\n"
     ]
    },
    {
     "data": {
      "image/png": "[encoded data removed]",
      "text/plain": [
       "<Figure size 432x288 with 1 Axes>"
      ]
     },
     "metadata": {
      "needs_background": "light"
     },
     "output_type": "display_data"
    }
   ],
   "source": [
    "print(prediction.shape)\n",
    "predictor = np.reshape(prediction, (-1))\n",
    "print(predictor.shape)\n",
    "plt.plot(range(len(predictor)), predictor, label='predict')\n",
    "plt.plot(range(len(predictor)), answer, label='real')\n",
    "plt.legend() \n",
    "plt.show()"
   ]
  },
  {
   "cell_type": "code",
   "execution_count": 126,
   "metadata": {
    "colab": {},
    "colab_type": "code",
    "id": "osLleNIn7z4B"
   },
   "outputs": [],
   "source": [
    "from keras.models import Model\n",
    "test_data = train_X[0][:][:]\n",
    "test_data = test_data.reshape(1,50,1)\n",
    "test_data.shape\n",
    "middle_model = Model(inputs=model.input, outputs=model.get_layer(\"dense_13\").output)\n",
    "#Model(inputs=入力レイヤの入力, outputs=出力レイヤの出力)\n",
    "middle_output = middle_model.predict(test_data)\n",
    "#dataは入力データ"
   ]
  },
  {
   "cell_type": "code",
   "execution_count": null,
   "metadata": {},
   "outputs": [],
   "source": []
  },
  {
   "cell_type": "code",
   "execution_count": null,
   "metadata": {},
   "outputs": [],
   "source": []
  }
 ],
 "metadata": {
  "colab": {
   "collapsed_sections": [],
   "name": "OneDconv.ipynb",
   "provenance": []
  },
  "kernelspec": {
   "display_name": "Python 3",
   "language": "python",
   "name": "python3"
  },
  "language_info": {
   "codemirror_mode": {
    "name": "ipython",
    "version": 3
   },
   "file_extension": ".py",
   "mimetype": "text/x-python",
   "name": "python",
   "nbconvert_exporter": "python",
   "pygments_lexer": "ipython3",
   "version": "3.7.3"
  }
 },
 "nbformat": 4,
 "nbformat_minor": 1
}
