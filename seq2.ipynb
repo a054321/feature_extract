{
 "cells": [
  {
   "cell_type": "code",
   "execution_count": 1,
   "metadata": {
    "colab": {
     "base_uri": "https://localhost:8080/",
     "height": 80
    },
    "colab_type": "code",
    "executionInfo": {
     "elapsed": 3371,
     "status": "ok",
     "timestamp": 1580451121982,
     "user": {
      "displayName": "omez ario",
      "photoUrl": "https://lh3.googleusercontent.com/a-/AAuE7mC9BxaBrxzccVNpko1HTvBIbiJ2t0fxuBU_L3Bb=s64",
      "userId": "14694671835625384382"
     },
     "user_tz": -540
    },
    "id": "ZTUyCcU-u64e",
    "outputId": "2f32c55c-fca5-4692-859d-61b0e77dff8e"
   },
   "outputs": [
    {
     "name": "stderr",
     "output_type": "stream",
     "text": [
      "Using TensorFlow backend.\n"
     ]
    }
   ],
   "source": [
    "import numpy as np\n",
    "import matplotlib\n",
    "import matplotlib.pyplot as plt\n",
    "import tensorflow as tf\n",
    "import pandas as pd\n",
    "from sklearn import metrics\n",
    "import os\n",
    "import seaborn as sns\n",
    "import math\n",
    "from keras.models import Sequential\n",
    "from keras.layers import Dense\n",
    "from keras.layers import LSTM\n",
    "from sklearn.preprocessing import MinMaxScaler\n",
    "from sklearn.metrics import mean_squared_error"
   ]
  },
  {
   "cell_type": "code",
   "execution_count": 2,
   "metadata": {
    "colab": {
     "base_uri": "https://localhost:8080/",
     "height": 79,
     "resources": {
      "http://localhost:8080/nbextensions/google.colab/files.js": {
       "data": "Ly8gQ29weXJpZ2h0IDIwMTcgR29vZ2xlIExMQwovLwovLyBMaWNlbnNlZCB1bmRlciB0aGUgQXBhY2hlIExpY2Vuc2UsIFZlcnNpb24gMi4wICh0aGUgIkxpY2Vuc2UiKTsKLy8geW91IG1heSBub3QgdXNlIHRoaXMgZmlsZSBleGNlcHQgaW4gY29tcGxpYW5jZSB3aXRoIHRoZSBMaWNlbnNlLgovLyBZb3UgbWF5IG9idGFpbiBhIGNvcHkgb2YgdGhlIExpY2Vuc2UgYXQKLy8KLy8gICAgICBodHRwOi8vd3d3LmFwYWNoZS5vcmcvbGljZW5zZXMvTElDRU5TRS0yLjAKLy8KLy8gVW5sZXNzIHJlcXVpcmVkIGJ5IGFwcGxpY2FibGUgbGF3IG9yIGFncmVlZCB0byBpbiB3cml0aW5nLCBzb2Z0d2FyZQovLyBkaXN0cmlidXRlZCB1bmRlciB0aGUgTGljZW5zZSBpcyBkaXN0cmlidXRlZCBvbiBhbiAiQVMgSVMiIEJBU0lTLAovLyBXSVRIT1VUIFdBUlJBTlRJRVMgT1IgQ09ORElUSU9OUyBPRiBBTlkgS0lORCwgZWl0aGVyIGV4cHJlc3Mgb3IgaW1wbGllZC4KLy8gU2VlIHRoZSBMaWNlbnNlIGZvciB0aGUgc3BlY2lmaWMgbGFuZ3VhZ2UgZ292ZXJuaW5nIHBlcm1pc3Npb25zIGFuZAovLyBsaW1pdGF0aW9ucyB1bmRlciB0aGUgTGljZW5zZS4KCi8qKgogKiBAZmlsZW92ZXJ2aWV3IEhlbHBlcnMgZm9yIGdvb2dsZS5jb2xhYiBQeXRob24gbW9kdWxlLgogKi8KKGZ1bmN0aW9uKHNjb3BlKSB7CmZ1bmN0aW9uIHNwYW4odGV4dCwgc3R5bGVBdHRyaWJ1dGVzID0ge30pIHsKICBjb25zdCBlbGVtZW50ID0gZG9jdW1lbnQuY3JlYXRlRWxlbWVudCgnc3BhbicpOwogIGVsZW1lbnQudGV4dENvbnRlbnQgPSB0ZXh0OwogIGZvciAoY29uc3Qga2V5IG9mIE9iamVjdC5rZXlzKHN0eWxlQXR0cmlidXRlcykpIHsKICAgIGVsZW1lbnQuc3R5bGVba2V5XSA9IHN0eWxlQXR0cmlidXRlc1trZXldOwogIH0KICByZXR1cm4gZWxlbWVudDsKfQoKLy8gTWF4IG51bWJlciBvZiBieXRlcyB3aGljaCB3aWxsIGJlIHVwbG9hZGVkIGF0IGEgdGltZS4KY29uc3QgTUFYX1BBWUxPQURfU0laRSA9IDEwMCAqIDEwMjQ7Ci8vIE1heCBhbW91bnQgb2YgdGltZSB0byBibG9jayB3YWl0aW5nIGZvciB0aGUgdXNlci4KY29uc3QgRklMRV9DSEFOR0VfVElNRU9VVF9NUyA9IDMwICogMTAwMDsKCmZ1bmN0aW9uIF91cGxvYWRGaWxlcyhpbnB1dElkLCBvdXRwdXRJZCkgewogIGNvbnN0IHN0ZXBzID0gdXBsb2FkRmlsZXNTdGVwKGlucHV0SWQsIG91dHB1dElkKTsKICBjb25zdCBvdXRwdXRFbGVtZW50ID0gZG9jdW1lbnQuZ2V0RWxlbWVudEJ5SWQob3V0cHV0SWQpOwogIC8vIENhY2hlIHN0ZXBzIG9uIHRoZSBvdXRwdXRFbGVtZW50IHRvIG1ha2UgaXQgYXZhaWxhYmxlIGZvciB0aGUgbmV4dCBjYWxsCiAgLy8gdG8gdXBsb2FkRmlsZXNDb250aW51ZSBmcm9tIFB5dGhvbi4KICBvdXRwdXRFbGVtZW50LnN0ZXBzID0gc3RlcHM7CgogIHJldHVybiBfdXBsb2FkRmlsZXNDb250aW51ZShvdXRwdXRJZCk7Cn0KCi8vIFRoaXMgaXMgcm91Z2hseSBhbiBhc3luYyBnZW5lcmF0b3IgKG5vdCBzdXBwb3J0ZWQgaW4gdGhlIGJyb3dzZXIgeWV0KSwKLy8gd2hlcmUgdGhlcmUgYXJlIG11bHRpcGxlIGFzeW5jaHJvbm91cyBzdGVwcyBhbmQgdGhlIFB5dGhvbiBzaWRlIGlzIGdvaW5nCi8vIHRvIHBvbGwgZm9yIGNvbXBsZXRpb24gb2YgZWFjaCBzdGVwLgovLyBUaGlzIHVzZXMgYSBQcm9taXNlIHRvIGJsb2NrIHRoZSBweXRob24gc2lkZSBvbiBjb21wbGV0aW9uIG9mIGVhY2ggc3RlcCwKLy8gdGhlbiBwYXNzZXMgdGhlIHJlc3VsdCBvZiB0aGUgcHJldmlvdXMgc3RlcCBhcyB0aGUgaW5wdXQgdG8gdGhlIG5leHQgc3RlcC4KZnVuY3Rpb24gX3VwbG9hZEZpbGVzQ29udGludWUob3V0cHV0SWQpIHsKICBjb25zdCBvdXRwdXRFbGVtZW50ID0gZG9jdW1lbnQuZ2V0RWxlbWVudEJ5SWQob3V0cHV0SWQpOwogIGNvbnN0IHN0ZXBzID0gb3V0cHV0RWxlbWVudC5zdGVwczsKCiAgY29uc3QgbmV4dCA9IHN0ZXBzLm5leHQob3V0cHV0RWxlbWVudC5sYXN0UHJvbWlzZVZhbHVlKTsKICByZXR1cm4gUHJvbWlzZS5yZXNvbHZlKG5leHQudmFsdWUucHJvbWlzZSkudGhlbigodmFsdWUpID0+IHsKICAgIC8vIENhY2hlIHRoZSBsYXN0IHByb21pc2UgdmFsdWUgdG8gbWFrZSBpdCBhdmFpbGFibGUgdG8gdGhlIG5leHQKICAgIC8vIHN0ZXAgb2YgdGhlIGdlbmVyYXRvci4KICAgIG91dHB1dEVsZW1lbnQubGFzdFByb21pc2VWYWx1ZSA9IHZhbHVlOwogICAgcmV0dXJuIG5leHQudmFsdWUucmVzcG9uc2U7CiAgfSk7Cn0KCi8qKgogKiBHZW5lcmF0b3IgZnVuY3Rpb24gd2hpY2ggaXMgY2FsbGVkIGJldHdlZW4gZWFjaCBhc3luYyBzdGVwIG9mIHRoZSB1cGxvYWQKICogcHJvY2Vzcy4KICogQHBhcmFtIHtzdHJpbmd9IGlucHV0SWQgRWxlbWVudCBJRCBvZiB0aGUgaW5wdXQgZmlsZSBwaWNrZXIgZWxlbWVudC4KICogQHBhcmFtIHtzdHJpbmd9IG91dHB1dElkIEVsZW1lbnQgSUQgb2YgdGhlIG91dHB1dCBkaXNwbGF5LgogKiBAcmV0dXJuIHshSXRlcmFibGU8IU9iamVjdD59IEl0ZXJhYmxlIG9mIG5leHQgc3RlcHMuCiAqLwpmdW5jdGlvbiogdXBsb2FkRmlsZXNTdGVwKGlucHV0SWQsIG91dHB1dElkKSB7CiAgY29uc3QgaW5wdXRFbGVtZW50ID0gZG9jdW1lbnQuZ2V0RWxlbWVudEJ5SWQoaW5wdXRJZCk7CiAgaW5wdXRFbGVtZW50LmRpc2FibGVkID0gZmFsc2U7CgogIGNvbnN0IG91dHB1dEVsZW1lbnQgPSBkb2N1bWVudC5nZXRFbGVtZW50QnlJZChvdXRwdXRJZCk7CiAgb3V0cHV0RWxlbWVudC5pbm5lckhUTUwgPSAnJzsKCiAgY29uc3QgcGlja2VkUHJvbWlzZSA9IG5ldyBQcm9taXNlKChyZXNvbHZlKSA9PiB7CiAgICBpbnB1dEVsZW1lbnQuYWRkRXZlbnRMaXN0ZW5lcignY2hhbmdlJywgKGUpID0+IHsKICAgICAgcmVzb2x2ZShlLnRhcmdldC5maWxlcyk7CiAgICB9KTsKICB9KTsKCiAgY29uc3QgY2FuY2VsID0gZG9jdW1lbnQuY3JlYXRlRWxlbWVudCgnYnV0dG9uJyk7CiAgaW5wdXRFbGVtZW50LnBhcmVudEVsZW1lbnQuYXBwZW5kQ2hpbGQoY2FuY2VsKTsKICBjYW5jZWwudGV4dENvbnRlbnQgPSAnQ2FuY2VsIHVwbG9hZCc7CiAgY29uc3QgY2FuY2VsUHJvbWlzZSA9IG5ldyBQcm9taXNlKChyZXNvbHZlKSA9PiB7CiAgICBjYW5jZWwub25jbGljayA9ICgpID0+IHsKICAgICAgcmVzb2x2ZShudWxsKTsKICAgIH07CiAgfSk7CgogIC8vIENhbmNlbCB1cGxvYWQgaWYgdXNlciBoYXNuJ3QgcGlja2VkIGFueXRoaW5nIGluIHRpbWVvdXQuCiAgY29uc3QgdGltZW91dFByb21pc2UgPSBuZXcgUHJvbWlzZSgocmVzb2x2ZSkgPT4gewogICAgc2V0VGltZW91dCgoKSA9PiB7CiAgICAgIHJlc29sdmUobnVsbCk7CiAgICB9LCBGSUxFX0NIQU5HRV9USU1FT1VUX01TKTsKICB9KTsKCiAgLy8gV2FpdCBmb3IgdGhlIHVzZXIgdG8gcGljayB0aGUgZmlsZXMuCiAgY29uc3QgZmlsZXMgPSB5aWVsZCB7CiAgICBwcm9taXNlOiBQcm9taXNlLnJhY2UoW3BpY2tlZFByb21pc2UsIHRpbWVvdXRQcm9taXNlLCBjYW5jZWxQcm9taXNlXSksCiAgICByZXNwb25zZTogewogICAgICBhY3Rpb246ICdzdGFydGluZycsCiAgICB9CiAgfTsKCiAgaWYgKCFmaWxlcykgewogICAgcmV0dXJuIHsKICAgICAgcmVzcG9uc2U6IHsKICAgICAgICBhY3Rpb246ICdjb21wbGV0ZScsCiAgICAgIH0KICAgIH07CiAgfQoKICBjYW5jZWwucmVtb3ZlKCk7CgogIC8vIERpc2FibGUgdGhlIGlucHV0IGVsZW1lbnQgc2luY2UgZnVydGhlciBwaWNrcyBhcmUgbm90IGFsbG93ZWQuCiAgaW5wdXRFbGVtZW50LmRpc2FibGVkID0gdHJ1ZTsKCiAgZm9yIChjb25zdCBmaWxlIG9mIGZpbGVzKSB7CiAgICBjb25zdCBsaSA9IGRvY3VtZW50LmNyZWF0ZUVsZW1lbnQoJ2xpJyk7CiAgICBsaS5hcHBlbmQoc3BhbihmaWxlLm5hbWUsIHtmb250V2VpZ2h0OiAnYm9sZCd9KSk7CiAgICBsaS5hcHBlbmQoc3BhbigKICAgICAgICBgKCR7ZmlsZS50eXBlIHx8ICduL2EnfSkgLSAke2ZpbGUuc2l6ZX0gYnl0ZXMsIGAgKwogICAgICAgIGBsYXN0IG1vZGlmaWVkOiAkewogICAgICAgICAgICBmaWxlLmxhc3RNb2RpZmllZERhdGUgPyBmaWxlLmxhc3RNb2RpZmllZERhdGUudG9Mb2NhbGVEYXRlU3RyaW5nKCkgOgogICAgICAgICAgICAgICAgICAgICAgICAgICAgICAgICAgICAnbi9hJ30gLSBgKSk7CiAgICBjb25zdCBwZXJjZW50ID0gc3BhbignMCUgZG9uZScpOwogICAgbGkuYXBwZW5kQ2hpbGQocGVyY2VudCk7CgogICAgb3V0cHV0RWxlbWVudC5hcHBlbmRDaGlsZChsaSk7CgogICAgY29uc3QgZmlsZURhdGFQcm9taXNlID0gbmV3IFByb21pc2UoKHJlc29sdmUpID0+IHsKICAgICAgY29uc3QgcmVhZGVyID0gbmV3IEZpbGVSZWFkZXIoKTsKICAgICAgcmVhZGVyLm9ubG9hZCA9IChlKSA9PiB7CiAgICAgICAgcmVzb2x2ZShlLnRhcmdldC5yZXN1bHQpOwogICAgICB9OwogICAgICByZWFkZXIucmVhZEFzQXJyYXlCdWZmZXIoZmlsZSk7CiAgICB9KTsKICAgIC8vIFdhaXQgZm9yIHRoZSBkYXRhIHRvIGJlIHJlYWR5LgogICAgbGV0IGZpbGVEYXRhID0geWllbGQgewogICAgICBwcm9taXNlOiBmaWxlRGF0YVByb21pc2UsCiAgICAgIHJlc3BvbnNlOiB7CiAgICAgICAgYWN0aW9uOiAnY29udGludWUnLAogICAgICB9CiAgICB9OwoKICAgIC8vIFVzZSBhIGNodW5rZWQgc2VuZGluZyB0byBhdm9pZCBtZXNzYWdlIHNpemUgbGltaXRzLiBTZWUgYi82MjExNTY2MC4KICAgIGxldCBwb3NpdGlvbiA9IDA7CiAgICB3aGlsZSAocG9zaXRpb24gPCBmaWxlRGF0YS5ieXRlTGVuZ3RoKSB7CiAgICAgIGNvbnN0IGxlbmd0aCA9IE1hdGgubWluKGZpbGVEYXRhLmJ5dGVMZW5ndGggLSBwb3NpdGlvbiwgTUFYX1BBWUxPQURfU0laRSk7CiAgICAgIGNvbnN0IGNodW5rID0gbmV3IFVpbnQ4QXJyYXkoZmlsZURhdGEsIHBvc2l0aW9uLCBsZW5ndGgpOwogICAgICBwb3NpdGlvbiArPSBsZW5ndGg7CgogICAgICBjb25zdCBiYXNlNjQgPSBidG9hKFN0cmluZy5mcm9tQ2hhckNvZGUuYXBwbHkobnVsbCwgY2h1bmspKTsKICAgICAgeWllbGQgewogICAgICAgIHJlc3BvbnNlOiB7CiAgICAgICAgICBhY3Rpb246ICdhcHBlbmQnLAogICAgICAgICAgZmlsZTogZmlsZS5uYW1lLAogICAgICAgICAgZGF0YTogYmFzZTY0LAogICAgICAgIH0sCiAgICAgIH07CiAgICAgIHBlcmNlbnQudGV4dENvbnRlbnQgPQogICAgICAgICAgYCR7TWF0aC5yb3VuZCgocG9zaXRpb24gLyBmaWxlRGF0YS5ieXRlTGVuZ3RoKSAqIDEwMCl9JSBkb25lYDsKICAgIH0KICB9CgogIC8vIEFsbCBkb25lLgogIHlpZWxkIHsKICAgIHJlc3BvbnNlOiB7CiAgICAgIGFjdGlvbjogJ2NvbXBsZXRlJywKICAgIH0KICB9Owp9CgpzY29wZS5nb29nbGUgPSBzY29wZS5nb29nbGUgfHwge307CnNjb3BlLmdvb2dsZS5jb2xhYiA9IHNjb3BlLmdvb2dsZS5jb2xhYiB8fCB7fTsKc2NvcGUuZ29vZ2xlLmNvbGFiLl9maWxlcyA9IHsKICBfdXBsb2FkRmlsZXMsCiAgX3VwbG9hZEZpbGVzQ29udGludWUsCn07Cn0pKHNlbGYpOwo=",
       "headers": [
        [
         "content-type",
         "application/javascript"
        ]
       ],
       "ok": true,
       "status": 200,
       "status_text": ""
      }
     }
    },
    "colab_type": "code",
    "executionInfo": {
     "elapsed": 17083,
     "status": "ok",
     "timestamp": 1580451135720,
     "user": {
      "displayName": "omez ario",
      "photoUrl": "https://lh3.googleusercontent.com/a-/AAuE7mC9BxaBrxzccVNpko1HTvBIbiJ2t0fxuBU_L3Bb=s64",
      "userId": "14694671835625384382"
     },
     "user_tz": -540
    },
    "id": "qjjL4xnpvA3Z",
    "outputId": "94ac7316-1e86-4607-8050-cee69d939644"
   },
   "outputs": [
    {
     "data": {
      "text/html": [
       "\n",
       "     <input type=\"file\" id=\"files-2cad90d9-2d78-435d-ac81-6df6d81a4ad0\" name=\"files[]\" multiple disabled />\n",
       "     <output id=\"result-2cad90d9-2d78-435d-ac81-6df6d81a4ad0\">\n",
       "      Upload widget is only available when the cell has been executed in the\n",
       "      current browser session. Please rerun this cell to enable.\n",
       "      </output>\n",
       "      <script src=\"/nbextensions/google.colab/files.js\"></script> "
      ],
      "text/plain": [
       "<IPython.core.display.HTML object>"
      ]
     },
     "metadata": {
      "tags": []
     },
     "output_type": "display_data"
    },
    {
     "name": "stdout",
     "output_type": "stream",
     "text": [
      "Saving temperature_data.csv to temperature_data.csv\n"
     ]
    }
   ],
   "source": [
    "# show upload dialog\n",
    "from google.colab import files\n",
    "uploaded = files.upload()"
   ]
  },
  {
   "cell_type": "code",
   "execution_count": 2,
   "metadata": {
    "colab": {
     "base_uri": "https://localhost:8080/",
     "height": 235
    },
    "colab_type": "code",
    "executionInfo": {
     "elapsed": 873,
     "status": "ok",
     "timestamp": 1580451136642,
     "user": {
      "displayName": "omez ario",
      "photoUrl": "https://lh3.googleusercontent.com/a-/AAuE7mC9BxaBrxzccVNpko1HTvBIbiJ2t0fxuBU_L3Bb=s64",
      "userId": "14694671835625384382"
     },
     "user_tz": -540
    },
    "id": "lIE46F-HgfeN",
    "outputId": "9ca1935e-0fb1-4cba-c1f0-d948ac760d22"
   },
   "outputs": [
    {
     "data": {
      "text/html": [
       "<div>\n",
       "<style scoped>\n",
       "    .dataframe tbody tr th:only-of-type {\n",
       "        vertical-align: middle;\n",
       "    }\n",
       "\n",
       "    .dataframe tbody tr th {\n",
       "        vertical-align: top;\n",
       "    }\n",
       "\n",
       "    .dataframe thead th {\n",
       "        text-align: right;\n",
       "    }\n",
       "</style>\n",
       "<table border=\"1\" class=\"dataframe\">\n",
       "  <thead>\n",
       "    <tr style=\"text-align: right;\">\n",
       "      <th></th>\n",
       "      <th>Tokyo(Kanto)</th>\n",
       "      <th>Neriima(Kanto)</th>\n",
       "      <th>fuchu(Kanto)</th>\n",
       "      <th>Naha(kyushu)</th>\n",
       "      <th>fukuoka(kyushu)</th>\n",
       "      <th>Dazaihu(kyushu)</th>\n",
       "    </tr>\n",
       "    <tr>\n",
       "      <th>timestep</th>\n",
       "      <th></th>\n",
       "      <th></th>\n",
       "      <th></th>\n",
       "      <th></th>\n",
       "      <th></th>\n",
       "      <th></th>\n",
       "    </tr>\n",
       "  </thead>\n",
       "  <tbody>\n",
       "    <tr>\n",
       "      <th>1</th>\n",
       "      <td>5.3</td>\n",
       "      <td>4.5</td>\n",
       "      <td>4.2</td>\n",
       "      <td>18.3</td>\n",
       "      <td>6.8</td>\n",
       "      <td>5.2</td>\n",
       "    </tr>\n",
       "    <tr>\n",
       "      <th>2</th>\n",
       "      <td>6.2</td>\n",
       "      <td>5.6</td>\n",
       "      <td>4.3</td>\n",
       "      <td>17.8</td>\n",
       "      <td>6.0</td>\n",
       "      <td>4.8</td>\n",
       "    </tr>\n",
       "    <tr>\n",
       "      <th>3</th>\n",
       "      <td>4.9</td>\n",
       "      <td>4.1</td>\n",
       "      <td>3.7</td>\n",
       "      <td>17.4</td>\n",
       "      <td>5.4</td>\n",
       "      <td>3.3</td>\n",
       "    </tr>\n",
       "    <tr>\n",
       "      <th>4</th>\n",
       "      <td>5.1</td>\n",
       "      <td>3.8</td>\n",
       "      <td>4.0</td>\n",
       "      <td>19.9</td>\n",
       "      <td>6.9</td>\n",
       "      <td>4.8</td>\n",
       "    </tr>\n",
       "    <tr>\n",
       "      <th>5</th>\n",
       "      <td>7.4</td>\n",
       "      <td>6.5</td>\n",
       "      <td>6.0</td>\n",
       "      <td>22.1</td>\n",
       "      <td>8.2</td>\n",
       "      <td>7.0</td>\n",
       "    </tr>\n",
       "  </tbody>\n",
       "</table>\n",
       "</div>"
      ],
      "text/plain": [
       "          Tokyo(Kanto)  Neriima(Kanto)  fuchu(Kanto)  Naha(kyushu)  \\\n",
       "timestep                                                             \n",
       "1                  5.3             4.5           4.2          18.3   \n",
       "2                  6.2             5.6           4.3          17.8   \n",
       "3                  4.9             4.1           3.7          17.4   \n",
       "4                  5.1             3.8           4.0          19.9   \n",
       "5                  7.4             6.5           6.0          22.1   \n",
       "\n",
       "          fukuoka(kyushu)  Dazaihu(kyushu)  \n",
       "timestep                                    \n",
       "1                     6.8              5.2  \n",
       "2                     6.0              4.8  \n",
       "3                     5.4              3.3  \n",
       "4                     6.9              4.8  \n",
       "5                     8.2              7.0  "
      ]
     },
     "execution_count": 2,
     "metadata": {},
     "output_type": "execute_result"
    }
   ],
   "source": [
    "import pandas as pd\n",
    "\n",
    "df = pd.read_csv('temperature_data.csv',index_col=0)\n",
    "\n",
    "df.head()"
   ]
  },
  {
   "cell_type": "code",
   "execution_count": 6,
   "metadata": {
    "colab": {},
    "colab_type": "code",
    "id": "-Mx5POz2vCA0"
   },
   "outputs": [],
   "source": [
    "INPUT_feature_col = [\n",
    "    \"Tokyo(Kanto)\",\"Neriima(Kanto)\",\"fuchu(Kanto)\",\"Naha(kyushu)\",\"fukuoka(kyushu)\",\"Dazaihu(kyushu)\"\n",
    "    ]"
   ]
  },
  {
   "cell_type": "code",
   "execution_count": 7,
   "metadata": {
    "colab": {},
    "colab_type": "code",
    "id": "d0sm7KYjvCEe"
   },
   "outputs": [],
   "source": [
    "from tensorflow.keras.models import Model\n",
    "from tensorflow.keras.layers import Dense, LSTM, Input\n",
    "from tensorflow.python.keras.utils.vis_utils import plot_model"
   ]
  },
  {
   "cell_type": "code",
   "execution_count": 8,
   "metadata": {
    "colab": {},
    "colab_type": "code",
    "id": "K2bihNpwvCIP"
   },
   "outputs": [],
   "source": [
    "dataset = df[INPUT_feature_col].values\n",
    "dataset = dataset.astype('float32')\n",
    "scaler = MinMaxScaler(feature_range=(0, 1))\n",
    "dataset = scaler.fit_transform(dataset)\n",
    "df_ax = pd.DataFrame(dataset)"
   ]
  },
  {
   "cell_type": "markdown",
   "metadata": {},
   "source": [
    "# 今回は東京の平均気温データの中間層を取得"
   ]
  },
  {
   "cell_type": "code",
   "execution_count": 9,
   "metadata": {
    "colab": {},
    "colab_type": "code",
    "id": "p-vnF4mHvCST"
   },
   "outputs": [],
   "source": [
    "rawdata = df_ax.loc[:, [0]]\n",
    "raw_data = rawdata.values\n",
    "raw_data = raw_data.reshape([358])\n",
    "raw_data.shape\n",
    "len_raw = len(rawdata)\n",
    "axis_x = np.linspace(0,len_raw,len_raw)"
   ]
  },
  {
   "cell_type": "code",
   "execution_count": 10,
   "metadata": {
    "colab": {
     "base_uri": "https://localhost:8080/",
     "height": 68
    },
    "colab_type": "code",
    "executionInfo": {
     "elapsed": 632,
     "status": "ok",
     "timestamp": 1580451161059,
     "user": {
      "displayName": "omez ario",
      "photoUrl": "https://lh3.googleusercontent.com/a-/AAuE7mC9BxaBrxzccVNpko1HTvBIbiJ2t0fxuBU_L3Bb=s64",
      "userId": "14694671835625384382"
     },
     "user_tz": -540
    },
    "id": "LVdbO3iHvCW1",
    "outputId": "9d9b33b3-7529-4626-be1a-ab86442958f9"
   },
   "outputs": [
    {
     "name": "stdout",
     "output_type": "stream",
     "text": [
      "(348, 10)\n",
      "(348, 10)\n",
      "(348, 10)\n"
     ]
    }
   ],
   "source": [
    "N_RNN = 10  # 1セットのデータ数\n",
    "N_SAMPLE = len(raw_data)-N_RNN  # サンプル数\n",
    "N_IN_OUT = 1 # 入力層・出力層のニューロン数\n",
    "N_MID = 20  # 中間層のニューロン数\n",
    "shape_ = (N_SAMPLE, N_RNN, )\n",
    "\n",
    "x_encoder = np.zeros(shape_)  # encoderの入力\n",
    "x_decoder = np.zeros(shape_)  # decoderの入力\n",
    "y_decoder = np.zeros(shape_)  # decoderの正解\n",
    "\n",
    "for i in range(N_SAMPLE):\n",
    "    x_encoder[i] = raw_data[i:i+N_RNN] #正弦(sin)関数を10づつ入力\n",
    "    x_decoder[i, 1:] = raw_data[i:i+N_RNN-1]  # 最初の値は0のままでひとつ後にずらす\n",
    "    y_decoder[i] = raw_data[i:i+N_RNN]  # 正解は余弦(cos)関数の値をそのまま入れる\n",
    "print(x_encoder.shape)\n",
    "print(y_decoder.shape)\n",
    "print(x_decoder.shape)\n",
    "\n",
    "\n",
    "# サンプル数、時系列の数、入力層のニューロン数にreshape\n",
    "x_encoder = x_encoder.reshape(shape_+(N_IN_OUT,))\n",
    "x_decoder = x_decoder.reshape(shape_+(N_IN_OUT,))\n",
    "y_decoder = y_decoder.reshape(shape_+(N_IN_OUT,))\n",
    "#print(x_encoder.shape)"
   ]
  },
  {
   "cell_type": "code",
   "execution_count": 11,
   "metadata": {
    "colab": {},
    "colab_type": "code",
    "id": "IxaiHnfbvPFq"
   },
   "outputs": [],
   "source": [
    "def train_model():\n",
    "    # input\n",
    "    encoder_input = Input(shape=(N_RNN, N_IN_OUT)) # encoderの入力層\n",
    "    decoder_input = Input(shape=(N_RNN, N_IN_OUT)) # decoderの入力層\n",
    "\n",
    "    # encoder\n",
    "    # return_stateをTrueにすることで、状態（htとメモリセル）が得られる。return_sequnceは不要\n",
    "    encoder_output, state_h, state_c = LSTM(N_MID, return_state=True)(encoder_input)  # encoder LSTMの最終出力、状態(ht)、状態(メモリセル)\n",
    "    encoder_states = [state_h, state_c] # LSTM結果のencoder_stateをdecoderのLSTM中間状態に渡す\n",
    "\n",
    "    # decoder\n",
    "    decoder_lstm = LSTM(N_MID, return_sequences=True, return_state=True)  # return_stateをTrueにすることで、状態（htとメモリセル）が得られる。\n",
    "    decoder_output, _, _ = decoder_lstm(decoder_input, initial_state=encoder_states)  # encoderから得る状態を使用。状態(htとメモリセル)は不要\n",
    "    decoder_dense = Dense(N_IN_OUT, activation='linear') # 予測で再利用のために全結合を定義\n",
    "    decoder_output = decoder_dense(decoder_output)\n",
    "\n",
    "    model = Model([encoder_input, decoder_input], decoder_output)  # 入力と出力を設定し、Modelクラスでモデルを作成\n",
    "    model.compile(loss=\"mean_squared_error\", optimizer=\"adam\", metrics=['accuracy'])\n",
    "    model.summary()\n",
    "    \n",
    "    #SVG(model_to_dot(model).create(prog='dot', format='svg'))\n",
    "    # モデルの画像をpng形式で保存したいとき\n",
    "    # from keras.utils import plot_model\n",
    "    # plot_model(model, to_file='model.png')\n",
    "\n",
    "    return model, encoder_input, encoder_states, decoder_lstm, decoder_dense"
   ]
  },
  {
   "cell_type": "code",
   "execution_count": 12,
   "metadata": {
    "colab": {
     "base_uri": "https://localhost:8080/",
     "height": 780
    },
    "colab_type": "code",
    "executionInfo": {
     "elapsed": 1391,
     "status": "ok",
     "timestamp": 1580451169775,
     "user": {
      "displayName": "omez ario",
      "photoUrl": "https://lh3.googleusercontent.com/a-/AAuE7mC9BxaBrxzccVNpko1HTvBIbiJ2t0fxuBU_L3Bb=s64",
      "userId": "14694671835625384382"
     },
     "user_tz": -540
    },
    "id": "JdD54ydWvPLe",
    "outputId": "9e2309b8-d90b-4a80-90d0-29ba87ab834a"
   },
   "outputs": [
    {
     "name": "stdout",
     "output_type": "stream",
     "text": [
      "WARNING:tensorflow:From C:\\ProgramData\\Anaconda3\\lib\\site-packages\\tensorflow\\python\\ops\\init_ops.py:1251: calling VarianceScaling.__init__ (from tensorflow.python.ops.init_ops) with dtype is deprecated and will be removed in a future version.\n",
      "Instructions for updating:\n",
      "Call initializer instance with the dtype argument instead of passing it to the constructor\n",
      "Model: \"model\"\n",
      "__________________________________________________________________________________________________\n",
      "Layer (type)                    Output Shape         Param #     Connected to                     \n",
      "==================================================================================================\n",
      "input_1 (InputLayer)            [(None, 10, 1)]      0                                            \n",
      "__________________________________________________________________________________________________\n",
      "input_2 (InputLayer)            [(None, 10, 1)]      0                                            \n",
      "__________________________________________________________________________________________________\n",
      "lstm (LSTM)                     [(None, 20), (None,  1760        input_1[0][0]                    \n",
      "__________________________________________________________________________________________________\n",
      "lstm_1 (LSTM)                   [(None, 10, 20), (No 1760        input_2[0][0]                    \n",
      "                                                                 lstm[0][1]                       \n",
      "                                                                 lstm[0][2]                       \n",
      "__________________________________________________________________________________________________\n",
      "dense (Dense)                   (None, 10, 1)        21          lstm_1[0][0]                     \n",
      "==================================================================================================\n",
      "Total params: 3,541\n",
      "Trainable params: 3,541\n",
      "Non-trainable params: 0\n",
      "__________________________________________________________________________________________________\n"
     ]
    },
    {
     "data": {
      "image/png": "[encoded data removed]",
      "text/plain": [
       "<IPython.core.display.Image object>"
      ]
     },
     "execution_count": 12,
     "metadata": {},
     "output_type": "execute_result"
    }
   ],
   "source": [
    "# 訓練モデル定義と出力\n",
    "model, encoder_input, encoder_states, decoder_lstm, decoder_dense = train_model()\n",
    "#from tf.keras.utils import plot_model\n",
    "tf.keras.utils.plot_model(model)"
   ]
  },
  {
   "cell_type": "code",
   "execution_count": 13,
   "metadata": {
    "colab": {},
    "colab_type": "code",
    "id": "ZKA5iA8bvPO9"
   },
   "outputs": [],
   "source": [
    "epochs=100"
   ]
  },
  {
   "cell_type": "code",
   "execution_count": 14,
   "metadata": {
    "colab": {
     "base_uri": "https://localhost:8080/",
     "height": 1000
    },
    "colab_type": "code",
    "executionInfo": {
     "elapsed": 37558,
     "status": "ok",
     "timestamp": 1580451209517,
     "user": {
      "displayName": "omez ario",
      "photoUrl": "https://lh3.googleusercontent.com/a-/AAuE7mC9BxaBrxzccVNpko1HTvBIbiJ2t0fxuBU_L3Bb=s64",
      "userId": "14694671835625384382"
     },
     "user_tz": -540
    },
    "id": "FcrMI3uWvdCc",
    "outputId": "d9d2646d-4eb1-4b6f-a1bd-805383bb0fe0"
   },
   "outputs": [
    {
     "name": "stdout",
     "output_type": "stream",
     "text": [
      "WARNING:tensorflow:From C:\\ProgramData\\Anaconda3\\lib\\site-packages\\tensorflow\\python\\ops\\math_grad.py:1250: add_dispatch_support.<locals>.wrapper (from tensorflow.python.ops.array_ops) is deprecated and will be removed in a future version.\n",
      "Instructions for updating:\n",
      "Use tf.where in 2.0, which has the same broadcast rule as np.where\n",
      "Epoch 1/100\n",
      "348/348 [==============================] - 2s 5ms/sample - loss: 0.4634 - acc: 0.0029\n",
      "Epoch 2/100\n",
      "348/348 [==============================] - 0s 646us/sample - loss: 0.3056 - acc: 0.0029\n",
      "Epoch 3/100\n",
      "348/348 [==============================] - 0s 612us/sample - loss: 0.1803 - acc: 0.0029\n",
      "Epoch 4/100\n",
      "348/348 [==============================] - 0s 554us/sample - loss: 0.0626 - acc: 0.0049\n",
      "Epoch 5/100\n",
      "348/348 [==============================] - 0s 729us/sample - loss: 0.0234 - acc: 0.0057\n",
      "Epoch 6/100\n",
      "348/348 [==============================] - 0s 635us/sample - loss: 0.0187 - acc: 0.0057\n",
      "Epoch 7/100\n",
      "348/348 [==============================] - 0s 655us/sample - loss: 0.0159 - acc: 0.0057\n",
      "Epoch 8/100\n",
      "348/348 [==============================] - 0s 643us/sample - loss: 0.0128 - acc: 0.0057\n",
      "Epoch 9/100\n",
      "348/348 [==============================] - 0s 616us/sample - loss: 0.0107 - acc: 0.0057\n",
      "Epoch 10/100\n",
      "348/348 [==============================] - 0s 554us/sample - loss: 0.0090 - acc: 0.0057\n",
      "Epoch 11/100\n",
      "348/348 [==============================] - 0s 632us/sample - loss: 0.0077 - acc: 0.0057\n",
      "Epoch 12/100\n",
      "348/348 [==============================] - 0s 695us/sample - loss: 0.0069 - acc: 0.0057\n",
      "Epoch 13/100\n",
      "348/348 [==============================] - 0s 661us/sample - loss: 0.0064 - acc: 0.0057\n",
      "Epoch 14/100\n",
      "348/348 [==============================] - 0s 658us/sample - loss: 0.0061 - acc: 0.0057\n",
      "Epoch 15/100\n",
      "348/348 [==============================] - 0s 697us/sample - loss: 0.0060 - acc: 0.0057\n",
      "Epoch 16/100\n",
      "348/348 [==============================] - 0s 684us/sample - loss: 0.0059 - acc: 0.0057\n",
      "Epoch 17/100\n",
      "348/348 [==============================] - 0s 689us/sample - loss: 0.0058 - acc: 0.0057\n",
      "Epoch 18/100\n",
      "348/348 [==============================] - 0s 778us/sample - loss: 0.0058 - acc: 0.0057\n",
      "Epoch 19/100\n",
      "348/348 [==============================] - 0s 546us/sample - loss: 0.0058 - acc: 0.0057\n",
      "Epoch 20/100\n",
      "348/348 [==============================] - 0s 1ms/sample - loss: 0.0057 - acc: 0.0057\n",
      "Epoch 21/100\n",
      "348/348 [==============================] - 0s 666us/sample - loss: 0.0057 - acc: 0.0057\n",
      "Epoch 22/100\n",
      "348/348 [==============================] - 0s 686us/sample - loss: 0.0057 - acc: 0.0057\n",
      "Epoch 23/100\n",
      "348/348 [==============================] - 0s 678us/sample - loss: 0.0057 - acc: 0.0057\n",
      "Epoch 24/100\n",
      "348/348 [==============================] - 0s 643us/sample - loss: 0.0056 - acc: 0.0057\n",
      "Epoch 25/100\n",
      "348/348 [==============================] - 0s 640us/sample - loss: 0.0056 - acc: 0.0057\n",
      "Epoch 26/100\n",
      "348/348 [==============================] - 0s 646us/sample - loss: 0.0056 - acc: 0.0057\n",
      "Epoch 27/100\n",
      "348/348 [==============================] - 0s 623us/sample - loss: 0.0056 - acc: 0.0057\n",
      "Epoch 28/100\n",
      "348/348 [==============================] - 0s 689us/sample - loss: 0.0055 - acc: 0.0057\n",
      "Epoch 29/100\n",
      "348/348 [==============================] - 0s 672us/sample - loss: 0.0055 - acc: 0.0057\n",
      "Epoch 30/100\n",
      "348/348 [==============================] - 0s 615us/sample - loss: 0.0055 - acc: 0.0057\n",
      "Epoch 31/100\n",
      "348/348 [==============================] - 0s 704us/sample - loss: 0.0055 - acc: 0.0057\n",
      "Epoch 32/100\n",
      "348/348 [==============================] - 0s 701us/sample - loss: 0.0055 - acc: 0.0057\n",
      "Epoch 33/100\n",
      "348/348 [==============================] - 0s 732us/sample - loss: 0.0055 - acc: 0.0057\n",
      "Epoch 34/100\n",
      "348/348 [==============================] - 0s 807us/sample - loss: 0.0054 - acc: 0.0057\n",
      "Epoch 35/100\n",
      "348/348 [==============================] - 0s 822us/sample - loss: 0.0054 - acc: 0.0057\n",
      "Epoch 36/100\n",
      "348/348 [==============================] - 0s 977us/sample - loss: 0.0054 - acc: 0.0057\n",
      "Epoch 37/100\n",
      "348/348 [==============================] - 0s 807us/sample - loss: 0.0054 - acc: 0.0057\n",
      "Epoch 38/100\n",
      "348/348 [==============================] - 0s 727us/sample - loss: 0.0054 - acc: 0.0057\n",
      "Epoch 39/100\n",
      "348/348 [==============================] - 0s 856us/sample - loss: 0.0054 - acc: 0.0057\n",
      "Epoch 40/100\n",
      "348/348 [==============================] - 0s 807us/sample - loss: 0.0054 - acc: 0.0057\n",
      "Epoch 41/100\n",
      "348/348 [==============================] - 0s 695us/sample - loss: 0.0054 - acc: 0.0057\n",
      "Epoch 42/100\n",
      "348/348 [==============================] - 0s 831us/sample - loss: 0.0053 - acc: 0.0057\n",
      "Epoch 43/100\n",
      "348/348 [==============================] - 0s 706us/sample - loss: 0.0053 - acc: 0.0057\n",
      "Epoch 44/100\n",
      "348/348 [==============================] - 0s 701us/sample - loss: 0.0053 - acc: 0.0057\n",
      "Epoch 45/100\n",
      "348/348 [==============================] - 0s 787us/sample - loss: 0.0053 - acc: 0.0057\n",
      "Epoch 46/100\n",
      "348/348 [==============================] - 0s 758us/sample - loss: 0.0053 - acc: 0.0057\n",
      "Epoch 47/100\n",
      "348/348 [==============================] - 0s 590us/sample - loss: 0.0053 - acc: 0.0057\n",
      "Epoch 48/100\n",
      "348/348 [==============================] - 0s 714us/sample - loss: 0.0053 - acc: 0.0057\n",
      "Epoch 49/100\n",
      "348/348 [==============================] - ETA: 0s - loss: 0.0055 - acc: 0.0059- ETA: 0s - loss: 0.0054 - acc: 0.00 - 0s 734us/sample - loss: 0.0053 - acc: 0.0057\n",
      "Epoch 50/100\n",
      "348/348 [==============================] - 0s 632us/sample - loss: 0.0053 - acc: 0.0057\n",
      "Epoch 51/100\n",
      "348/348 [==============================] - 0s 597us/sample - loss: 0.0053 - acc: 0.0057\n",
      "Epoch 52/100\n",
      "348/348 [==============================] - 0s 583us/sample - loss: 0.0053 - acc: 0.0057\n",
      "Epoch 53/100\n",
      "348/348 [==============================] - 0s 706us/sample - loss: 0.0052 - acc: 0.0057\n",
      "Epoch 54/100\n",
      "348/348 [==============================] - 0s 583us/sample - loss: 0.0052 - acc: 0.0057\n",
      "Epoch 55/100\n",
      "348/348 [==============================] - 0s 712us/sample - loss: 0.0052 - acc: 0.0057\n",
      "Epoch 56/100\n",
      "348/348 [==============================] - 0s 741us/sample - loss: 0.0052 - acc: 0.0057\n",
      "Epoch 57/100\n",
      "348/348 [==============================] - 0s 663us/sample - loss: 0.0052 - acc: 0.0057\n",
      "Epoch 58/100\n",
      "348/348 [==============================] - 0s 649us/sample - loss: 0.0052 - acc: 0.0057\n",
      "Epoch 59/100\n",
      "348/348 [==============================] - 0s 635us/sample - loss: 0.0052 - acc: 0.0057\n",
      "Epoch 60/100\n",
      "348/348 [==============================] - 0s 648us/sample - loss: 0.0052 - acc: 0.0057\n",
      "Epoch 61/100\n",
      "348/348 [==============================] - 0s 617us/sample - loss: 0.0052 - acc: 0.0057\n",
      "Epoch 62/100\n",
      "348/348 [==============================] - 0s 580us/sample - loss: 0.0052 - acc: 0.0057\n",
      "Epoch 63/100\n",
      "348/348 [==============================] - 0s 543us/sample - loss: 0.0052 - acc: 0.0057\n",
      "Epoch 64/100\n",
      "348/348 [==============================] - 0s 635us/sample - loss: 0.0052 - acc: 0.0057\n",
      "Epoch 65/100\n",
      "348/348 [==============================] - 0s 635us/sample - loss: 0.0051 - acc: 0.0057\n",
      "Epoch 66/100\n",
      "348/348 [==============================] - 0s 609us/sample - loss: 0.0051 - acc: 0.0057\n",
      "Epoch 67/100\n",
      "348/348 [==============================] - 0s 609us/sample - loss: 0.0051 - acc: 0.0057\n",
      "Epoch 68/100\n",
      "348/348 [==============================] - 0s 658us/sample - loss: 0.0051 - acc: 0.0057\n",
      "Epoch 69/100\n",
      "348/348 [==============================] - 0s 932us/sample - loss: 0.0051 - acc: 0.0057\n",
      "Epoch 70/100\n",
      "348/348 [==============================] - 0s 574us/sample - loss: 0.0051 - acc: 0.0057\n",
      "Epoch 71/100\n",
      "348/348 [==============================] - 0s 578us/sample - loss: 0.0051 - acc: 0.0057\n",
      "Epoch 72/100\n",
      "348/348 [==============================] - 0s 589us/sample - loss: 0.0051 - acc: 0.0057\n",
      "Epoch 73/100\n",
      "348/348 [==============================] - 0s 666us/sample - loss: 0.0051 - acc: 0.0057\n",
      "Epoch 74/100\n",
      "348/348 [==============================] - 0s 551us/sample - loss: 0.0051 - acc: 0.0057\n",
      "Epoch 75/100\n",
      "348/348 [==============================] - 0s 560us/sample - loss: 0.0050 - acc: 0.0057\n",
      "Epoch 76/100\n",
      "348/348 [==============================] - 0s 810us/sample - loss: 0.0050 - acc: 0.0057\n",
      "Epoch 77/100\n",
      "348/348 [==============================] - 0s 694us/sample - loss: 0.0050 - acc: 0.0057\n",
      "Epoch 78/100\n"
     ]
    },
    {
     "name": "stdout",
     "output_type": "stream",
     "text": [
      "348/348 [==============================] - 0s 783us/sample - loss: 0.0050 - acc: 0.0057\n",
      "Epoch 79/100\n",
      "348/348 [==============================] - 0s 617us/sample - loss: 0.0050 - acc: 0.0057\n",
      "Epoch 80/100\n",
      "348/348 [==============================] - 0s 658us/sample - loss: 0.0050 - acc: 0.0057\n",
      "Epoch 81/100\n",
      "348/348 [==============================] - 0s 681us/sample - loss: 0.0050 - acc: 0.0057\n",
      "Epoch 82/100\n",
      "348/348 [==============================] - 0s 589us/sample - loss: 0.0050 - acc: 0.0057\n",
      "Epoch 83/100\n",
      "348/348 [==============================] - 0s 588us/sample - loss: 0.0050 - acc: 0.0057\n",
      "Epoch 84/100\n",
      "348/348 [==============================] - 0s 580us/sample - loss: 0.0049 - acc: 0.0057\n",
      "Epoch 85/100\n",
      "348/348 [==============================] - 0s 847us/sample - loss: 0.0049 - acc: 0.0057\n",
      "Epoch 86/100\n",
      "348/348 [==============================] - 0s 706us/sample - loss: 0.0049 - acc: 0.0057\n",
      "Epoch 87/100\n",
      "348/348 [==============================] - 0s 663us/sample - loss: 0.0049 - acc: 0.0057\n",
      "Epoch 88/100\n",
      "348/348 [==============================] - 0s 672us/sample - loss: 0.0049 - acc: 0.0057\n",
      "Epoch 89/100\n",
      "348/348 [==============================] - 0s 709us/sample - loss: 0.0049 - acc: 0.0057\n",
      "Epoch 90/100\n",
      "348/348 [==============================] - 0s 692us/sample - loss: 0.0049 - acc: 0.0057\n",
      "Epoch 91/100\n",
      "348/348 [==============================] - 0s 640us/sample - loss: 0.0049 - acc: 0.0057\n",
      "Epoch 92/100\n",
      "348/348 [==============================] - 0s 675us/sample - loss: 0.0049 - acc: 0.0057\n",
      "Epoch 93/100\n",
      "348/348 [==============================] - 0s 775us/sample - loss: 0.0048 - acc: 0.0057\n",
      "Epoch 94/100\n",
      "348/348 [==============================] - 0s 616us/sample - loss: 0.0048 - acc: 0.0057\n",
      "Epoch 95/100\n",
      "348/348 [==============================] - 0s 663us/sample - loss: 0.0048 - acc: 0.0057\n",
      "Epoch 96/100\n",
      "348/348 [==============================] - 0s 758us/sample - loss: 0.0048 - acc: 0.0057\n",
      "Epoch 97/100\n",
      "348/348 [==============================] - 0s 626us/sample - loss: 0.0048 - acc: 0.0057\n",
      "Epoch 98/100\n",
      "348/348 [==============================] - 0s 738us/sample - loss: 0.0048 - acc: 0.0057\n",
      "Epoch 99/100\n",
      "348/348 [==============================] - 0s 956us/sample - loss: 0.0047 - acc: 0.0057\n",
      "Epoch 100/100\n",
      "348/348 [==============================] - 0s 839us/sample - loss: 0.0047 - acc: 0.0057\n"
     ]
    },
    {
     "data": {
      "image/png": "[encoded data removed]",
      "text/plain": [
       "<Figure size 432x288 with 1 Axes>"
      ]
     },
     "metadata": {
      "needs_background": "light"
     },
     "output_type": "display_data"
    }
   ],
   "source": [
    "history = model.fit([x_encoder, x_decoder], y_decoder,epochs=epochs)\n",
    "loss = history.history['loss']\n",
    "plt.plot(np.arange(len(loss)), loss)\n",
    "plt.show()"
   ]
  },
  {
   "cell_type": "code",
   "execution_count": 15,
   "metadata": {
    "colab": {
     "base_uri": "https://localhost:8080/",
     "height": 279
    },
    "colab_type": "code",
    "executionInfo": {
     "elapsed": 557,
     "status": "ok",
     "timestamp": 1580451212218,
     "user": {
      "displayName": "omez ario",
      "photoUrl": "https://lh3.googleusercontent.com/a-/AAuE7mC9BxaBrxzccVNpko1HTvBIbiJ2t0fxuBU_L3Bb=s64",
      "userId": "14694671835625384382"
     },
     "user_tz": -540
    },
    "id": "MZnAMDjPvdGG",
    "outputId": "89b72ef2-9911-44a5-d3a2-531ae6d79b38"
   },
   "outputs": [
    {
     "data": {
      "image/png": "[encoded data removed]",
      "text/plain": [
       "<Figure size 432x288 with 1 Axes>"
      ]
     },
     "metadata": {
      "needs_background": "light"
     },
     "output_type": "display_data"
    }
   ],
   "source": [
    "plt.plot(range(epochs), history.history['loss'], label='loss')\n",
    "#plt.plot(range(epochs), history.history['accuracy'], label='acc')\n",
    "plt.xlabel('epoch')\n",
    "plt.ylabel('loss')\n",
    "plt.legend() \n",
    "plt.show()"
   ]
  },
  {
   "cell_type": "code",
   "execution_count": 16,
   "metadata": {
    "colab": {},
    "colab_type": "code",
    "id": "xMOzXot4vdKL"
   },
   "outputs": [],
   "source": [
    "def predict_model(encoder_input, encoder_states, decoder_lstm, decoder_dense):\n",
    "    # encoderのモデルを構築\n",
    "    encoder_model = Model(encoder_input, encoder_states)\n",
    "\n",
    "    # decoderのモデルを構築\n",
    "    decoder_input = Input(shape=(1, N_IN_OUT)) # (1, 1)\n",
    "\n",
    "    # n_midは中間層のニューロン数(今回は20)\n",
    "    # 状態(ht)と状態(メモリセル)の入力定義\n",
    "    decoder_state_in = [Input(shape=(N_MID,)), Input(shape=(N_MID,))]\n",
    "\n",
    "    decoder_output, decoder_state_h, decoder_state_c = \\\n",
    "        decoder_lstm(decoder_input, initial_state=decoder_state_in) # 既存の学習済みLSTM層を使用\n",
    "    decoder_states = [decoder_state_h, decoder_state_c]\n",
    "\n",
    "    decoder_output = decoder_dense(decoder_output) # 既存の学習済み全結合層を使用\n",
    "    decoder_model = Model([decoder_input] + decoder_state_in, [decoder_output] + decoder_states) # リストを+で結合\n",
    "\n",
    "    return encoder_model, decoder_model\n",
    "\n",
    "# 予測モデル定義\n",
    "encoder_model, decoder_model = predict_model(encoder_input, encoder_states, decoder_lstm, decoder_dense)"
   ]
  },
  {
   "cell_type": "code",
   "execution_count": 17,
   "metadata": {
    "colab": {},
    "colab_type": "code",
    "id": "nhYd30klvPIn"
   },
   "outputs": [],
   "source": [
    "def predict(x_test):\n",
    "    state_value = encoder_model.predict(x_test)  # encoderにデータを投げて状態(htとメモリセル)取得\n",
    "    #print(state_value)\n",
    "    y_decoder = np.zeros((1, 1, 1)) # 出力の値\n",
    "    predicted = [] # 変換結果\n",
    "\n",
    "    for i in range(N_RNN):\n",
    "        y, h, c = decoder_model.predict([y_decoder] + state_value)  # 前の出力と状態を渡す\n",
    "        y = y[0][0][0]\n",
    "        predicted.append(y)\n",
    "        y_decoder[0][0][0] = y  # 次に渡す値\n",
    "        state_value = [h, c] # 次に渡す状態\n",
    "\n",
    "    return predicted"
   ]
  },
  {
   "cell_type": "code",
   "execution_count": 18,
   "metadata": {
    "colab": {
     "base_uri": "https://localhost:8080/",
     "height": 877
    },
    "colab_type": "code",
    "executionInfo": {
     "elapsed": 1341,
     "status": "ok",
     "timestamp": 1580451216367,
     "user": {
      "displayName": "omez ario",
      "photoUrl": "https://lh3.googleusercontent.com/a-/AAuE7mC9BxaBrxzccVNpko1HTvBIbiJ2t0fxuBU_L3Bb=s64",
      "userId": "14694671835625384382"
     },
     "user_tz": -540
    },
    "id": "YRCcB6KnvCaf",
    "outputId": "780152f4-2e36-4644-f91b-ea98d98b1c7d"
   },
   "outputs": [
    {
     "data": {
      "image/png": "[encoded data removed]",
      "text/plain": [
       "<Figure size 432x288 with 1 Axes>"
      ]
     },
     "metadata": {
      "needs_background": "light"
     },
     "output_type": "display_data"
    }
   ],
   "source": [
    "len_raw\n",
    "demo_idices = [0, 13, 26, 39]  # デモデータのインデックス\n",
    "for i in demo_idices:\n",
    "    x_test = x_encoder[i:i+1] # 入力を一部取り出す(x_encoderは40.10,1の3次元配列で、1次元目がdemo_indicesの配列を10個取り出している)\n",
    "    y_test = predict(x_test)\n",
    "\n",
    "    plt.plot(axis_x[i:i+N_RNN], x_test.reshape(-1), color=\"b\") # 変換前（青）\n",
    "    plt.plot(axis_x[i:i+N_RNN], y_test, color=\"r\") # 変換後（赤）\n",
    "    #print(y_test.shape)\n",
    "    #print(x_test.reshape(-1))\n",
    "plt.show()    "
   ]
  },
  {
   "cell_type": "code",
   "execution_count": 19,
   "metadata": {
    "colab": {
     "base_uri": "https://localhost:8080/",
     "height": 1000
    },
    "colab_type": "code",
    "executionInfo": {
     "elapsed": 8913,
     "status": "ok",
     "timestamp": 1578476467170,
     "user": {
      "displayName": "omez ario",
      "photoUrl": "https://lh3.googleusercontent.com/a-/AAuE7mC9BxaBrxzccVNpko1HTvBIbiJ2t0fxuBU_L3Bb=s64",
      "userId": "14694671835625384382"
     },
     "user_tz": -540
    },
    "id": "z33rXjjMvCeQ",
    "outputId": "352a81e8-a979-4198-d04c-57684098736d"
   },
   "outputs": [
    {
     "data": {
      "image/png": "[encoded data removed]",
      "text/plain": [
       "<Figure size 432x288 with 1 Axes>"
      ]
     },
     "metadata": {
      "needs_background": "light"
     },
     "output_type": "display_data"
    }
   ],
   "source": [
    "len_raws = len_raw - N_RNN\n",
    "for i in range(len_raws):\n",
    "    x_test = x_encoder[i:i+1] # 入力を一部取り出す(x_encoderは40.10,1の3次元配列で、1次元目がdemo_indicesの配列を10個取り出している)\n",
    "    y_test = predict(x_test)\n",
    "\n",
    "    plt.plot(axis_x[i:i+N_RNN], x_test.reshape(-1), color=\"b\") # 変換前（青）\n",
    "    plt.plot(axis_x[i:i+N_RNN], y_test, color=\"r\") # 変換後（赤）\n",
    "    #print(y_test.shape)\n",
    "    #print(x_test.reshape(-1))\n",
    "plt.show()    "
   ]
  },
  {
   "cell_type": "code",
   "execution_count": 20,
   "metadata": {
    "colab": {},
    "colab_type": "code",
    "id": "7iggDUPwskg5"
   },
   "outputs": [],
   "source": [
    "demo_index = []\n",
    "demo_index.append(0)\n",
    "x = 0\n",
    "for i in range(len_raw) :\n",
    "    if x < len_raw - N_RNN -N_RNN :\n",
    "        x = x + N_RNN\n",
    "        demo_index.append(x)"
   ]
  },
  {
   "cell_type": "code",
   "execution_count": 22,
   "metadata": {
    "colab": {
     "base_uri": "https://localhost:8080/",
     "height": 1000
    },
    "colab_type": "code",
    "executionInfo": {
     "elapsed": 1648,
     "status": "ok",
     "timestamp": 1578476474903,
     "user": {
      "displayName": "omez ario",
      "photoUrl": "https://lh3.googleusercontent.com/a-/AAuE7mC9BxaBrxzccVNpko1HTvBIbiJ2t0fxuBU_L3Bb=s64",
      "userId": "14694671835625384382"
     },
     "user_tz": -540
    },
    "id": "7GWk_TMjMlya",
    "outputId": "33f9e83b-118b-4893-c954-bb80b85336a3"
   },
   "outputs": [
    {
     "data": {
      "image/png": "[encoded data removed]",
      "text/plain": [
       "<Figure size 432x288 with 1 Axes>"
      ]
     },
     "metadata": {
      "needs_background": "light"
     },
     "output_type": "display_data"
    }
   ],
   "source": [
    "for i in demo_index:\n",
    "    x_test = x_encoder[i:i+1] # 入力を一部取り出す(x_encoderは40.10,1の3次元配列で、1次元目がdemo_indicesの配列を10個取り出している)\n",
    "    #print(i)\n",
    "    y_test = predict(x_test)\n",
    "\n",
    "    plt.plot(axis_x[i:i+N_RNN], x_test.reshape(-1), color=\"b\") # 変換前（青）\n",
    "    plt.plot(axis_x[i:i+N_RNN], y_test, color=\"r\") # 変換後（赤）\n",
    "    #print(y_test.shape)\n",
    "    #print(x_test.reshape(-1))\n",
    "plt.show()   "
   ]
  },
  {
   "cell_type": "code",
   "execution_count": 0,
   "metadata": {
    "colab": {},
    "colab_type": "code",
    "id": "M5ck0Lx_M_Vh"
   },
   "outputs": [],
   "source": []
  }
 ],
 "metadata": {
  "colab": {
   "collapsed_sections": [],
   "name": "seq2.ipynb",
   "provenance": []
  },
  "kernelspec": {
   "display_name": "Python 3",
   "language": "python",
   "name": "python3"
  },
  "language_info": {
   "codemirror_mode": {
    "name": "ipython",
    "version": 3
   },
   "file_extension": ".py",
   "mimetype": "text/x-python",
   "name": "python",
   "nbconvert_exporter": "python",
   "pygments_lexer": "ipython3",
   "version": "3.7.3"
  }
 },
 "nbformat": 4,
 "nbformat_minor": 1
}
